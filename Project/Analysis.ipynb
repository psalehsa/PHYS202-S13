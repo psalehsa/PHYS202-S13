{
 "metadata": {
  "name": "Analysis"
 },
 "nbformat": 3,
 "nbformat_minor": 0,
 "worksheets": [
  {
   "cells": [
    {
     "cell_type": "heading",
     "level": 1,
     "metadata": {},
     "source": [
      "Analysis Questions :"
     ]
    },
    {
     "cell_type": "markdown",
     "metadata": {},
     "source": [
      "#### Because I could not get the simulation working but I am going to attempt to guess the systems behavior ."
     ]
    },
    {
     "cell_type": "markdown",
     "metadata": {},
     "source": [
      "Are there any phase transitions? At what densities do they occur?"
     ]
    },
    {
     "cell_type": "markdown",
     "metadata": {},
     "source": [
      "There are huge phase transitions that occur in all three models. The occur when there is the biggest change in g (distance between cars)."
     ]
    },
    {
     "cell_type": "markdown",
     "metadata": {},
     "source": [
      "How do they depend on the other parameters in the model, such as slowdown probability $p$, $v_{max}$, and allowing cruise control?"
     ]
    },
    {
     "cell_type": "markdown",
     "metadata": {},
     "source": [
      "Phase transitions depend on other parameters in the model, such as slowdown probability, vmax, and allowing cruise control, because these aspects affect g which in effect affects velocity which then affects the position of the cars. One car can make a big diffrence - as shown on the AESP model."
     ]
    },
    {
     "cell_type": "markdown",
     "metadata": {},
     "source": [
      "Does this make sense in the context of the physical picture of cars on the road?"
     ]
    },
    {
     "cell_type": "markdown",
     "metadata": {},
     "source": [
      "This does make sense in the context of physical picture of cars on the road. Every driver is unique and will act/drive a certain way depending on the circumstances. The model does a (simple) but pretty accurate perception of the randomness of the driver's decision."
     ]
    },
    {
     "cell_type": "code",
     "collapsed": false,
     "input": [],
     "language": "python",
     "metadata": {},
     "outputs": []
    }
   ],
   "metadata": {}
  }
 ]
}