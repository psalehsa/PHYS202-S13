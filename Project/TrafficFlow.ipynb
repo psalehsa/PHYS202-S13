{
 "metadata": {
  "name": "TrafficFlow"
 },
 "nbformat": 3,
 "nbformat_minor": 0,
 "worksheets": [
  {
   "cells": [
    {
     "cell_type": "heading",
     "level": 1,
     "metadata": {},
     "source": [
      "Project 2 - One Dimensional Traffic Flows"
     ]
    },
    {
     "cell_type": "heading",
     "level": 3,
     "metadata": {},
     "source": [
      "We are modeling the development of traffic using a class of models known as \"stochastic\n",
      "traffic cellular automata\" (STCA) models. Here, we let the road be represented by discrete\n",
      "locations i on a road with L sites. The position and velocity of all N cars on the road are\n",
      "integer values represented by the set ${x_i, vi}$ for {i = 0,...,N-1}. The velocity is just the\n",
      "number of steps we want to take during the next time step.\n",
      "\n",
      "\n",
      "With this basic framework, we can implement di\u000b",
      "fferent sets of rules to represent the\n",
      "behavior of the cars in the system. All STCA models allow all cars on the road to move at\n",
      "once. That is, during each time step the cars are all moved forward simultaneously. The\n",
      "cars are allowed to have any velocity vi between [0, vmax]."
     ]
    },
    {
     "cell_type": "markdown",
     "metadata": {},
     "source": [
      "CA184 Rule Variation:\n",
      "\n",
      "I. Let $g_i$ equal the number of empty sites in front of each car.\n",
      "\n",
      "II. If $g_i$ = 0, that car does not move during this time step.\n",
      "\n",
      "III. If $v_i$ is greater than $g_i$, slow down to $v_i$ = $g_i$\n",
      "\n",
      "IV. If $v_i$ is less than $g_i$ and $v_i$ is less than $v_{max}$ the.speed up by one unit: $v_i$ = $v_i$ +1.\n",
      "\n",
      "V.For $v_i$ is greather than 0, allow for random slow downs by letting $v_i$ = $v_i$ - 1 with probability p where p = 0.\n",
      "\n",
      "VI. Move all cars forward by $v_i$."
     ]
    },
    {
     "cell_type": "code",
     "collapsed": false,
     "input": [
      "import numpy as np\n",
      "import random as rand\n",
      "import math\n",
      "\n",
      "\n",
      "l = 40 #road length - meters #got advice to make it an array\n",
      "numberofcars = 5 #number of cars\n",
      "x = sort(rand.randint(0,l)) #position - meters\n",
      "vmax = 10 #m/s\n",
      "v = rand.randint(0,vmax) #velocity - m/s\n",
      "g = np.array([]) #number of spaces between each car"
     ],
     "language": "python",
     "metadata": {},
     "outputs": [
      {
       "output_type": "stream",
       "stream": "stdout",
       "text": [
        "\n"
       ]
      }
     ],
     "prompt_number": 6
    },
    {
     "cell_type": "code",
     "collapsed": false,
     "input": [
      "def ori_position(numberofcars,l):\n",
      "    x = rand.randint(0,l) #positions go from 0 to L-1\n",
      "    for i in range(numberofcars-1):\n",
      "        x = sort(np.append(x,rand.randint(0,l-1)))\n",
      "    return x\n",
      "ori_position(5,40)"
     ],
     "language": "python",
     "metadata": {},
     "outputs": [
      {
       "output_type": "pyout",
       "prompt_number": 12,
       "text": [
        "array([ 3,  5, 17, 22, 30])"
       ]
      }
     ],
     "prompt_number": 12
    },
    {
     "cell_type": "code",
     "collapsed": false,
     "input": [
      "def ori_velocity(numberofcars,vmax):\n",
      "    v = rand.randint(0,vmax)\n",
      "    for i in range(numberofcars-1):\n",
      "        v = np.append(v,rand.randint(0,vmax))\n",
      "    return v\n",
      "ori_velocity(5,10)"
     ],
     "language": "python",
     "metadata": {},
     "outputs": [
      {
       "output_type": "pyout",
       "prompt_number": 7,
       "text": [
        "array([3, 7, 5, 5, 5])"
       ]
      }
     ],
     "prompt_number": 7
    },
    {
     "cell_type": "code",
     "collapsed": false,
     "input": [
      "def road(numberofcars,l,vmax):\n",
      "    \"\"\" Creates a road model with numberofcars, that is l long, and cars can't go faster than vmax\"\"\"\n",
      "    cars = np.array([ori_position(numberofcars,l),ori_velocity(numberofcars,vmax)])\n",
      "    return cars"
     ],
     "language": "python",
     "metadata": {},
     "outputs": [],
     "prompt_number": 13
    },
    {
     "cell_type": "code",
     "collapsed": false,
     "input": [
      "def CA184(x,v,l):\n",
      "    \"\"\" CA184 that takes an array of car positions and veloc-\n",
      "ities along with the road length as arguments.\"\"\" \n",
      "    prob = 0\n",
      "    vmax = 10\n",
      "    g= []\n",
      "    l = arange(0,40)\n",
      "    \n",
      "    for i in range(numberofcars):\n",
      "        #rule one\n",
      "        if i > (numberofcars-1): #switched signs due to advice of Ian \n",
      "            g[i] = np.append((l-x[i])+(x[i+1] -1))\n",
      "        elif i > (numberofcars-1) and x[i+1] > x[i]:\n",
      "            g[i] = np.append(abs(x[i+1]-x[i])-1)\n",
      "        #else:\n",
      "            #g[i] = (l -x[i])+(x[i+1]-1)\n",
      "        #rule two\n",
      "        if g[i] == 0:\n",
      "            #x[i] = x[i]\n",
      "            v = 0 \n",
      "        #rule three\n",
      "        elif v[i] > g[i]:\n",
      "            v[i] = g[i] \n",
      "        #rule four\n",
      "        elif v[i] < g[i] and v[i] < vmax:\n",
      "            v[i] = v[i] + 1\n",
      "        #rule five\n",
      "        elif v[i] > 0 and rand.randint(1,100) <=100*prob :\n",
      "            v[i] = v[i] -1 #this model doesn't allow for random slow downs\n",
      "    #rule six     \n",
      "    for j in range(numberofcars):\n",
      "        x[i] = x[i] + v[i]\n",
      "        if x[i] > l:\n",
      "          x[i]= v[i]-(l-x[i]) #car loops around    \n",
      "    \n",
      "    print\"New velocities\",v\n",
      "    print\"New Positions\",x\n",
      "    print\"Spaces Between Cars\", g"
     ],
     "language": "python",
     "metadata": {},
     "outputs": [],
     "prompt_number": 30
    },
    {
     "cell_type": "code",
     "collapsed": false,
     "input": [
      "print \"$x_i =\", ori_position(5,40)\n",
      "print \"v_i =\", ori_velocity(5,10)\n",
      "print \"g_i =\", g # couldn't really understand how to work this\n",
      "# or print road(5,40,10)\n",
      "CA184(ori_position,ori_velocity,l)"
     ],
     "language": "python",
     "metadata": {},
     "outputs": [
      {
       "ename": "IndexError",
       "evalue": "index out of bounds",
       "output_type": "pyerr",
       "traceback": [
        "\u001b[1;31m---------------------------------------------------------------------------\u001b[0m\n\u001b[1;31mIndexError\u001b[0m                                Traceback (most recent call last)",
        "\u001b[1;32m<ipython-input-31-bd2cdcbfffb8>\u001b[0m in \u001b[0;36m<module>\u001b[1;34m()\u001b[0m\n\u001b[0;32m      3\u001b[0m \u001b[1;32mprint\u001b[0m \u001b[1;34m\"g_i =\"\u001b[0m\u001b[1;33m,\u001b[0m \u001b[0mg\u001b[0m \u001b[1;31m# couldn't really understand how to work this\u001b[0m\u001b[1;33m\u001b[0m\u001b[0m\n\u001b[0;32m      4\u001b[0m \u001b[1;31m# or print road(5,40,10)\u001b[0m\u001b[1;33m\u001b[0m\u001b[1;33m\u001b[0m\u001b[0m\n\u001b[1;32m----> 5\u001b[1;33m \u001b[0mCA184\u001b[0m\u001b[1;33m(\u001b[0m\u001b[0mori_position\u001b[0m\u001b[1;33m,\u001b[0m\u001b[0mori_velocity\u001b[0m\u001b[1;33m,\u001b[0m\u001b[0ml\u001b[0m\u001b[1;33m)\u001b[0m\u001b[1;33m\u001b[0m\u001b[0m\n\u001b[0m",
        "\u001b[1;32m<ipython-input-30-384da1dcc1e1>\u001b[0m in \u001b[0;36mCA184\u001b[1;34m(x, v, l)\u001b[0m\n\u001b[0;32m     16\u001b[0m             \u001b[1;31m#g[i] = (l -x[i])+(x[i+1]-1)\u001b[0m\u001b[1;33m\u001b[0m\u001b[1;33m\u001b[0m\u001b[0m\n\u001b[0;32m     17\u001b[0m         \u001b[1;31m#rule two\u001b[0m\u001b[1;33m\u001b[0m\u001b[1;33m\u001b[0m\u001b[0m\n\u001b[1;32m---> 18\u001b[1;33m         \u001b[1;32mif\u001b[0m \u001b[0mg\u001b[0m\u001b[1;33m[\u001b[0m\u001b[0mi\u001b[0m\u001b[1;33m]\u001b[0m \u001b[1;33m==\u001b[0m \u001b[1;36m0\u001b[0m\u001b[1;33m:\u001b[0m\u001b[1;33m\u001b[0m\u001b[0m\n\u001b[0m\u001b[0;32m     19\u001b[0m             \u001b[1;31m#x[i] = x[i]\u001b[0m\u001b[1;33m\u001b[0m\u001b[1;33m\u001b[0m\u001b[0m\n\u001b[0;32m     20\u001b[0m             \u001b[0mv\u001b[0m \u001b[1;33m=\u001b[0m \u001b[1;36m0\u001b[0m\u001b[1;33m\u001b[0m\u001b[0m\n",
        "\u001b[1;31mIndexError\u001b[0m: index out of bounds"
       ]
      },
      {
       "output_type": "stream",
       "stream": "stdout",
       "text": [
        "$x_i = [10 24 26 28 32]\n",
        "v_i = [4 4 1 7 0]\n",
        "g_i = []\n"
       ]
      }
     ],
     "prompt_number": 31
    },
    {
     "cell_type": "markdown",
     "metadata": {},
     "source": [
      "SCTA Rule Variation:\n",
      "\n",
      "I. Let $g_i$ equal the number of empty sites in front of each car.\n",
      "\n",
      "II. If $g_i$ = 0, that car does not move during this time step.\n",
      "\n",
      "III. If $v_i$ is greater than $g_i$, slow down to $v_i$ = $g_i$\n",
      "\n",
      "IV. If $v_i$ is less than $g_i$ and $v_i$ is less than $v_{max}$ the.speed up by one unit: $v_i$ = $v_i$ +1.\n",
      "\n",
      "V.For $v_i$ is greather than 0, allow for random slow downs by letting $v_i$ = $v_i$ - 1 with probability p \n",
      "\n",
      "VI. Move all cars forward by $v_i$."
     ]
    },
    {
     "cell_type": "code",
     "collapsed": false,
     "input": [
      "def SCTA(x,v,l):\n",
      "    \"\"\" SCTA that takes an array of car positions and veloc-\n",
      "ities along with the road length as arguments.\"\"\" \n",
      "    prob = (rand.randint(1,100))/100.\n",
      "    vmax = 10\n",
      "    g= []\n",
      "    l = arange(0,40)\n",
      "    \n",
      "    for i in range(numberofcars):\n",
      "        #rule one\n",
      "        if i > (numberofcars-1): #switched signs due to advice of Ian \n",
      "            g[i] = np.append((l-x[i])+(x[i+1] -1))\n",
      "        elif i > (numberofcars-1) and x[i+1] > x[i]:\n",
      "            g[i] = np.append(abs(x[i+1]-x[i])-1)\n",
      "        else:\n",
      "            g[i] = (l -x[i])+(x[i+1]-1)\n",
      "        #rule two\n",
      "        if g[i] == 0:\n",
      "            #x[i] = x[i]\n",
      "            v = 0 \n",
      "        #rule three\n",
      "        elif v[i] > g[i]:\n",
      "            v[i] = g[i] \n",
      "        #rule four\n",
      "        elif v[i] < g[i] and v[i] < vmax:\n",
      "            v[i] = v[i] + 1\n",
      "        #rule five\n",
      "        elif v[i] > 0 and rand.randint(1,100) <=100*prob :\n",
      "            v[i] = v[i] -1 \n",
      "    #rule six     \n",
      "    for j in range(numberofcars):\n",
      "        x[i] = x[i] + v[i]\n",
      "        if x[i] > l:\n",
      "          x[i]= v[i]-(l-x[i]) #car loops around    \n",
      "    \n",
      "    print\"New velocities\",v\n",
      "    print\"New Positions\",x\n",
      "    print\"Spaces Between Cars\", g"
     ],
     "language": "python",
     "metadata": {},
     "outputs": [],
     "prompt_number": 32
    },
    {
     "cell_type": "code",
     "collapsed": false,
     "input": [
      "print \"Initial position and velocities\",road(5,40,10) \n",
      "print g\n",
      "SCTA(ori_position,ori_velocity,l)"
     ],
     "language": "python",
     "metadata": {},
     "outputs": [
      {
       "ename": "TypeError",
       "evalue": "'function' object is not subscriptable",
       "output_type": "pyerr",
       "traceback": [
        "\u001b[1;31m---------------------------------------------------------------------------\u001b[0m\n\u001b[1;31mTypeError\u001b[0m                                 Traceback (most recent call last)",
        "\u001b[1;32m<ipython-input-38-66f45760a445>\u001b[0m in \u001b[0;36m<module>\u001b[1;34m()\u001b[0m\n\u001b[0;32m      1\u001b[0m \u001b[1;32mprint\u001b[0m \u001b[1;34m\"Initial position and velocities\"\u001b[0m\u001b[1;33m,\u001b[0m\u001b[0mroad\u001b[0m\u001b[1;33m(\u001b[0m\u001b[1;36m5\u001b[0m\u001b[1;33m,\u001b[0m\u001b[1;36m40\u001b[0m\u001b[1;33m,\u001b[0m\u001b[1;36m10\u001b[0m\u001b[1;33m)\u001b[0m\u001b[1;33m\u001b[0m\u001b[0m\n\u001b[0;32m      2\u001b[0m \u001b[1;32mprint\u001b[0m \u001b[0mg\u001b[0m\u001b[1;33m\u001b[0m\u001b[0m\n\u001b[1;32m----> 3\u001b[1;33m \u001b[0mSCTA\u001b[0m\u001b[1;33m(\u001b[0m\u001b[0mori_position\u001b[0m\u001b[1;33m,\u001b[0m\u001b[0mori_velocity\u001b[0m\u001b[1;33m,\u001b[0m\u001b[0ml\u001b[0m\u001b[1;33m)\u001b[0m\u001b[1;33m\u001b[0m\u001b[0m\n\u001b[0m",
        "\u001b[1;32m<ipython-input-32-bb22ed492740>\u001b[0m in \u001b[0;36mSCTA\u001b[1;34m(x, v, l)\u001b[0m\n\u001b[0;32m     14\u001b[0m             \u001b[0mg\u001b[0m\u001b[1;33m[\u001b[0m\u001b[0mi\u001b[0m\u001b[1;33m]\u001b[0m \u001b[1;33m=\u001b[0m \u001b[0mnp\u001b[0m\u001b[1;33m.\u001b[0m\u001b[0mappend\u001b[0m\u001b[1;33m(\u001b[0m\u001b[0mabs\u001b[0m\u001b[1;33m(\u001b[0m\u001b[0mx\u001b[0m\u001b[1;33m[\u001b[0m\u001b[0mi\u001b[0m\u001b[1;33m+\u001b[0m\u001b[1;36m1\u001b[0m\u001b[1;33m]\u001b[0m\u001b[1;33m-\u001b[0m\u001b[0mx\u001b[0m\u001b[1;33m[\u001b[0m\u001b[0mi\u001b[0m\u001b[1;33m]\u001b[0m\u001b[1;33m)\u001b[0m\u001b[1;33m-\u001b[0m\u001b[1;36m1\u001b[0m\u001b[1;33m)\u001b[0m\u001b[1;33m\u001b[0m\u001b[0m\n\u001b[0;32m     15\u001b[0m         \u001b[1;32melse\u001b[0m\u001b[1;33m:\u001b[0m\u001b[1;33m\u001b[0m\u001b[0m\n\u001b[1;32m---> 16\u001b[1;33m             \u001b[0mg\u001b[0m\u001b[1;33m[\u001b[0m\u001b[0mi\u001b[0m\u001b[1;33m]\u001b[0m \u001b[1;33m=\u001b[0m \u001b[1;33m(\u001b[0m\u001b[0ml\u001b[0m \u001b[1;33m-\u001b[0m\u001b[0mx\u001b[0m\u001b[1;33m[\u001b[0m\u001b[0mi\u001b[0m\u001b[1;33m]\u001b[0m\u001b[1;33m)\u001b[0m\u001b[1;33m+\u001b[0m\u001b[1;33m(\u001b[0m\u001b[0mx\u001b[0m\u001b[1;33m[\u001b[0m\u001b[0mi\u001b[0m\u001b[1;33m+\u001b[0m\u001b[1;36m1\u001b[0m\u001b[1;33m]\u001b[0m\u001b[1;33m-\u001b[0m\u001b[1;36m1\u001b[0m\u001b[1;33m)\u001b[0m\u001b[1;33m\u001b[0m\u001b[0m\n\u001b[0m\u001b[0;32m     17\u001b[0m         \u001b[1;31m#rule two\u001b[0m\u001b[1;33m\u001b[0m\u001b[1;33m\u001b[0m\u001b[0m\n\u001b[0;32m     18\u001b[0m         \u001b[1;32mif\u001b[0m \u001b[0mg\u001b[0m\u001b[1;33m[\u001b[0m\u001b[0mi\u001b[0m\u001b[1;33m]\u001b[0m \u001b[1;33m==\u001b[0m \u001b[1;36m0\u001b[0m\u001b[1;33m:\u001b[0m\u001b[1;33m\u001b[0m\u001b[0m\n",
        "\u001b[1;31mTypeError\u001b[0m: 'function' object is not subscriptable"
       ]
      },
      {
       "output_type": "stream",
       "stream": "stdout",
       "text": [
        " Initial position and velocities [[ 0 12 23 27 39]\n",
        " [ 9  3 10  9  5]]\n",
        "[]\n"
       ]
      }
     ],
     "prompt_number": 38
    },
    {
     "cell_type": "markdown",
     "metadata": {},
     "source": [
      "ASEP Rule Variation:\n",
      "\n",
      "Pick one car at random.\n",
      "\n",
      "I. Let $g_i$ equal the number of empty sites in front of each car.\n",
      "\n",
      "II. If $g_i$ = 0, that car does not move during this time step.\n",
      "\n",
      "III. If $v_i$ is greater than $g_i$, slow down to $v_i$ = $g_i$\n",
      "\n",
      "IV. If $v_i$ is less than $g_i$ and $v_i$ is less than $v_{max}$ the.speed up by one unit: $v_i$ = $v_i$ +1.\n",
      "\n",
      "V.Move this car forward by $v_i$."
     ]
    },
    {
     "cell_type": "code",
     "collapsed": false,
     "input": [],
     "language": "python",
     "metadata": {},
     "outputs": []
    }
   ],
   "metadata": {}
  }
 ]
}