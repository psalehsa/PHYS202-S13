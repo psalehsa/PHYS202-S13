{
 "metadata": {
  "name": "TrafficFlow"
 },
 "nbformat": 3,
 "nbformat_minor": 0,
 "worksheets": [
  {
   "cells": [
    {
     "cell_type": "heading",
     "level": 1,
     "metadata": {},
     "source": [
      "Project 2 - One Dimensional Traffic Flows"
     ]
    },
    {
     "cell_type": "heading",
     "level": 3,
     "metadata": {},
     "source": [
      "We are modeling the development of traffic using a class of models known as \"stochastic\n",
      "traffic cellular automata\" (STCA) models. Here, we let the road be represented by discrete\n",
      "locations i on a road with L sites. The position and velocity of all N cars on the road are\n",
      "integer values represented by the set ${x_i, vi}$ for {i = 0,...,N-1}. The velocity is just the\n",
      "number of steps we want to take during the next time step.\n",
      "\n",
      "\n",
      "With this basic framework, we can implement di\u000b",
      "fferent sets of rules to represent the\n",
      "behavior of the cars in the system. All STCA models allow all cars on the road to move at\n",
      "once. That is, during each time step the cars are all moved forward simultaneously. The\n",
      "cars are allowed to have any velocity vi between [0, vmax]."
     ]
    },
    {
     "cell_type": "markdown",
     "metadata": {},
     "source": [
      "CA184 Rule Variation:\n",
      "\n",
      "I. Let $g_i$ equal the number of empty sites in front of each car.\n",
      "\n",
      "II. If $g_i$ = 0, that car does not move during this time step.\n",
      "\n",
      "III. If $v_i$ is greater than $g_i$, slow down to $v_i$ = $g_i$\n",
      "\n",
      "IV. If $v_i$ is less than $g_i$ and $v_i$ is less than $v_{max}$ the.speed up by one unit: $v_i$ = $v_i$ +1.\n",
      "\n",
      "V.For $v_i$ is greather than 0, allow for random slow downs by letting $v_i$ = $v_i$ - 1 with probability p where p = 0.\n",
      "\n",
      "VI. Move all cars forward by $v_i$."
     ]
    },
    {
     "cell_type": "markdown",
     "metadata": {},
     "source": [
      "#### Defining some variables:"
     ]
    },
    {
     "cell_type": "code",
     "collapsed": false,
     "input": [
      "import numpy as np\n",
      "import random as rand\n",
      "import math\n",
      "\n",
      "\n",
      "l = 40 #road length - meters #got advice to make it an array\n",
      "numberofcars = 5 #number of cars\n",
      "x = sort(rand.randint(0,l)) #position - meters\n",
      "vmax = 10 #m/s\n",
      "v = rand.randint(0,vmax) #velocity - m/s\n",
      "g = np.array([]) #number of spaces between each car"
     ],
     "language": "python",
     "metadata": {},
     "outputs": [],
     "prompt_number": 1
    },
    {
     "cell_type": "markdown",
     "metadata": {},
     "source": [
      "#### Defining the function that finds the initial positions"
     ]
    },
    {
     "cell_type": "code",
     "collapsed": false,
     "input": [
      "def ori_position(numberofcars,l):\n",
      "    x = rand.randint(0,l) #positions go from 0 to L-1\n",
      "    for i in range(numberofcars-1):\n",
      "        x = sort(np.append(x,rand.randint(0,l-1)))\n",
      "    return x\n",
      "ori_position(5,40)"
     ],
     "language": "python",
     "metadata": {},
     "outputs": [
      {
       "output_type": "pyout",
       "prompt_number": 12,
       "text": [
        "array([ 2,  9, 29, 34, 35])"
       ]
      }
     ],
     "prompt_number": 12
    },
    {
     "cell_type": "markdown",
     "metadata": {},
     "source": [
      "#### Defining the function that finds the initial velocities"
     ]
    },
    {
     "cell_type": "code",
     "collapsed": false,
     "input": [
      "def ori_velocity(numberofcars,vmax):\n",
      "    v = rand.randint(0,vmax)\n",
      "    for i in range(numberofcars-1):\n",
      "        v = np.append(v,rand.randint(0,vmax))\n",
      "    return v\n",
      "ori_velocity(5,10)"
     ],
     "language": "python",
     "metadata": {},
     "outputs": [
      {
       "output_type": "pyout",
       "prompt_number": 11,
       "text": [
        "array([4, 2, 7, 9, 9])"
       ]
      }
     ],
     "prompt_number": 11
    },
    {
     "cell_type": "code",
     "collapsed": false,
     "input": [
      "def road(numberofcars,l,vmax):\n",
      "    \"\"\" Creates a road model with numberofcars, that is l long, and cars can't go faster than vmax\"\"\"\n",
      "    cars = np.array([ori_position(numberofcars,l),ori_velocity(numberofcars,vmax)])\n",
      "    return cars"
     ],
     "language": "python",
     "metadata": {},
     "outputs": [],
     "prompt_number": 4
    },
    {
     "cell_type": "code",
     "collapsed": false,
     "input": [
      "def CA184(x,v,l):\n",
      "    \"\"\" CA184 that takes an array of car positions and veloc-\n",
      "ities along with the road length as arguments.\"\"\" \n",
      "    prob = 0\n",
      "    vmax = 10\n",
      "    g= []\n",
      "    l = arange(0,40)\n",
      "    \n",
      "    for i in range(numberofcars):\n",
      "        #rule one\n",
      "        if i > (numberofcars-1): #switched signs due to advice of Ian \n",
      "            g[i] = np.append((l-x[i])+(x[i+1] -1))\n",
      "        elif i > (numberofcars-1) and x[i+1] > x[i]:\n",
      "            g[i] = np.append(abs(x[i+1]-x[i])-1)\n",
      "        #else:\n",
      "            #g[i] = (l -x[i])+(x[i+1]-1)\n",
      "        #rule two\n",
      "        if g[i] == 0:\n",
      "            #x[i] = x[i]\n",
      "            v[i] = 0 \n",
      "        #rule three\n",
      "        elif v[i] > g[i]:\n",
      "            v[i] = g[i] \n",
      "        #rule four\n",
      "        elif v[i] < g[i] and v[i] < vmax:\n",
      "            v[i] = v[i] + 1\n",
      "        #rule five\n",
      "        elif v[i] > 0 and rand.randint(1,100) <=100*prob :\n",
      "            v[i] = v[i] -1 #this model doesn't allow for random slow downs\n",
      "    #rule six     \n",
      "    for j in range(numberofcars):\n",
      "        x[i] = x[i] + v[i]\n",
      "        if x[i] > l:\n",
      "          x[i]= v[i]-(l-x[i]) #car loops around    \n",
      "    \n",
      "    print\"New velocities\",v\n",
      "    print\"New Positions\",x\n",
      "    print\"Spaces Between Cars\", g"
     ],
     "language": "python",
     "metadata": {},
     "outputs": [],
     "prompt_number": 13
    },
    {
     "cell_type": "code",
     "collapsed": false,
     "input": [
      "print \"$x_i =\", ori_position(5,40)\n",
      "print \"v_i =\", ori_velocity(5,10)\n",
      "print \"g_i =\", g # couldn't really understand how to work this\n",
      "# or print road(5,40,10)\n",
      "CA184(ori_position,ori_velocity,l)"
     ],
     "language": "python",
     "metadata": {},
     "outputs": [
      {
       "ename": "IndexError",
       "evalue": "list index out of range",
       "output_type": "pyerr",
       "traceback": [
        "\u001b[1;31m---------------------------------------------------------------------------\u001b[0m\n\u001b[1;31mIndexError\u001b[0m                                Traceback (most recent call last)",
        "\u001b[1;32m<ipython-input-6-bd2cdcbfffb8>\u001b[0m in \u001b[0;36m<module>\u001b[1;34m()\u001b[0m\n\u001b[0;32m      3\u001b[0m \u001b[1;32mprint\u001b[0m \u001b[1;34m\"g_i =\"\u001b[0m\u001b[1;33m,\u001b[0m \u001b[0mg\u001b[0m \u001b[1;31m# couldn't really understand how to work this\u001b[0m\u001b[1;33m\u001b[0m\u001b[0m\n\u001b[0;32m      4\u001b[0m \u001b[1;31m# or print road(5,40,10)\u001b[0m\u001b[1;33m\u001b[0m\u001b[1;33m\u001b[0m\u001b[0m\n\u001b[1;32m----> 5\u001b[1;33m \u001b[0mCA184\u001b[0m\u001b[1;33m(\u001b[0m\u001b[0mori_position\u001b[0m\u001b[1;33m,\u001b[0m\u001b[0mori_velocity\u001b[0m\u001b[1;33m,\u001b[0m\u001b[0ml\u001b[0m\u001b[1;33m)\u001b[0m\u001b[1;33m\u001b[0m\u001b[0m\n\u001b[0m",
        "\u001b[1;32m<ipython-input-5-552364374672>\u001b[0m in \u001b[0;36mCA184\u001b[1;34m(x, v, l)\u001b[0m\n\u001b[0;32m     16\u001b[0m             \u001b[1;31m#g[i] = (l -x[i])+(x[i+1]-1)\u001b[0m\u001b[1;33m\u001b[0m\u001b[1;33m\u001b[0m\u001b[0m\n\u001b[0;32m     17\u001b[0m         \u001b[1;31m#rule two\u001b[0m\u001b[1;33m\u001b[0m\u001b[1;33m\u001b[0m\u001b[0m\n\u001b[1;32m---> 18\u001b[1;33m         \u001b[1;32mif\u001b[0m \u001b[0mg\u001b[0m\u001b[1;33m[\u001b[0m\u001b[0mi\u001b[0m\u001b[1;33m]\u001b[0m \u001b[1;33m==\u001b[0m \u001b[1;36m0\u001b[0m\u001b[1;33m:\u001b[0m\u001b[1;33m\u001b[0m\u001b[0m\n\u001b[0m\u001b[0;32m     19\u001b[0m             \u001b[1;31m#x[i] = x[i]\u001b[0m\u001b[1;33m\u001b[0m\u001b[1;33m\u001b[0m\u001b[0m\n\u001b[0;32m     20\u001b[0m             \u001b[0mv\u001b[0m \u001b[1;33m=\u001b[0m \u001b[1;36m0\u001b[0m\u001b[1;33m\u001b[0m\u001b[0m\n",
        "\u001b[1;31mIndexError\u001b[0m: list index out of range"
       ]
      },
      {
       "output_type": "stream",
       "stream": "stdout",
       "text": [
        "$x_i = [ 5 10 22 24 38]\n",
        "v_i = [ 0  3  0 10  3]\n",
        "g_i = []\n"
       ]
      }
     ],
     "prompt_number": 6
    },
    {
     "cell_type": "markdown",
     "metadata": {},
     "source": [
      "SCTA Rule Variation:\n",
      "\n",
      "I. Let $g_i$ equal the number of empty sites in front of each car.\n",
      "\n",
      "II. If $g_i$ = 0, that car does not move during this time step.\n",
      "\n",
      "III. If $v_i$ is greater than $g_i$, slow down to $v_i$ = $g_i$\n",
      "\n",
      "IV. If $v_i$ is less than $g_i$ and $v_i$ is less than $v_{max}$ the.speed up by one unit: $v_i$ = $v_i$ +1.\n",
      "\n",
      "V.For $v_i$ is greather than 0, allow for random slow downs by letting $v_i$ = $v_i$ - 1 with probability p \n",
      "\n",
      "VI. Move all cars forward by $v_i$."
     ]
    },
    {
     "cell_type": "code",
     "collapsed": false,
     "input": [
      "def SCTA(x,v,l):\n",
      "    \"\"\" SCTA that takes an array of car positions and veloc-\n",
      "ities along with the road length as arguments.\"\"\" \n",
      "    prob = (rand.randint(1,100))/100.\n",
      "    vmax = 10\n",
      "    g= []\n",
      "    l = arange(0,40)\n",
      "    \n",
      "    for i in range(numberofcars):\n",
      "        #rule one\n",
      "        if i > (numberofcars-1): #switched signs due to advice of Ian \n",
      "            g[i] = np.append((l-x[i])+(x[i+1] -1))\n",
      "        elif i > (numberofcars-1) and x[i+1] > x[i]:\n",
      "            g[i] = np.append(abs(x[i+1]-x[i])-1)\n",
      "        else:\n",
      "            g[i] = (l -x[i])+(x[i+1]-1)\n",
      "        #rule two\n",
      "        if g[i] == 0:\n",
      "            #x[i] = x[i]\n",
      "            v[i] = 0 \n",
      "        #rule three\n",
      "        elif v[i] > g[i]:\n",
      "            v[i] = g[i] \n",
      "        #rule four\n",
      "        elif v[i] < g[i] and v[i] < vmax:\n",
      "            v[i] = v[i] + 1\n",
      "        #rule five\n",
      "        elif v[i] > 0 and rand.randint(1,100) <=100*prob :\n",
      "            v[i] = v[i] -1 \n",
      "    #rule six     \n",
      "    for j in range(numberofcars):\n",
      "        x[i] = x[i] + v[i]\n",
      "        if x[i] > l:\n",
      "          x[i]= v[i]-(l-x[i]) #car loops around    \n",
      "    \n",
      "    print\"New velocities\",v\n",
      "    print\"New Positions\",x\n",
      "    print\"Spaces Between Cars\", g"
     ],
     "language": "python",
     "metadata": {},
     "outputs": [],
     "prompt_number": 7
    },
    {
     "cell_type": "code",
     "collapsed": false,
     "input": [
      "print \"Initial position and velocities\",road(5,40,10) \n",
      "print g\n",
      "SCTA(ori_position,ori_velocity,l)"
     ],
     "language": "python",
     "metadata": {},
     "outputs": [
      {
       "ename": "TypeError",
       "evalue": "'function' object is not subscriptable",
       "output_type": "pyerr",
       "traceback": [
        "\u001b[1;31m---------------------------------------------------------------------------\u001b[0m\n\u001b[1;31mTypeError\u001b[0m                                 Traceback (most recent call last)",
        "\u001b[1;32m<ipython-input-8-66f45760a445>\u001b[0m in \u001b[0;36m<module>\u001b[1;34m()\u001b[0m\n\u001b[0;32m      1\u001b[0m \u001b[1;32mprint\u001b[0m \u001b[1;34m\"Initial position and velocities\"\u001b[0m\u001b[1;33m,\u001b[0m\u001b[0mroad\u001b[0m\u001b[1;33m(\u001b[0m\u001b[1;36m5\u001b[0m\u001b[1;33m,\u001b[0m\u001b[1;36m40\u001b[0m\u001b[1;33m,\u001b[0m\u001b[1;36m10\u001b[0m\u001b[1;33m)\u001b[0m\u001b[1;33m\u001b[0m\u001b[0m\n\u001b[0;32m      2\u001b[0m \u001b[1;32mprint\u001b[0m \u001b[0mg\u001b[0m\u001b[1;33m\u001b[0m\u001b[0m\n\u001b[1;32m----> 3\u001b[1;33m \u001b[0mSCTA\u001b[0m\u001b[1;33m(\u001b[0m\u001b[0mori_position\u001b[0m\u001b[1;33m,\u001b[0m\u001b[0mori_velocity\u001b[0m\u001b[1;33m,\u001b[0m\u001b[0ml\u001b[0m\u001b[1;33m)\u001b[0m\u001b[1;33m\u001b[0m\u001b[0m\n\u001b[0m",
        "\u001b[1;32m<ipython-input-7-ee6d287fb8f1>\u001b[0m in \u001b[0;36mSCTA\u001b[1;34m(x, v, l)\u001b[0m\n\u001b[0;32m     14\u001b[0m             \u001b[0mg\u001b[0m\u001b[1;33m[\u001b[0m\u001b[0mi\u001b[0m\u001b[1;33m]\u001b[0m \u001b[1;33m=\u001b[0m \u001b[0mnp\u001b[0m\u001b[1;33m.\u001b[0m\u001b[0mappend\u001b[0m\u001b[1;33m(\u001b[0m\u001b[0mabs\u001b[0m\u001b[1;33m(\u001b[0m\u001b[0mx\u001b[0m\u001b[1;33m[\u001b[0m\u001b[0mi\u001b[0m\u001b[1;33m+\u001b[0m\u001b[1;36m1\u001b[0m\u001b[1;33m]\u001b[0m\u001b[1;33m-\u001b[0m\u001b[0mx\u001b[0m\u001b[1;33m[\u001b[0m\u001b[0mi\u001b[0m\u001b[1;33m]\u001b[0m\u001b[1;33m)\u001b[0m\u001b[1;33m-\u001b[0m\u001b[1;36m1\u001b[0m\u001b[1;33m)\u001b[0m\u001b[1;33m\u001b[0m\u001b[0m\n\u001b[0;32m     15\u001b[0m         \u001b[1;32melse\u001b[0m\u001b[1;33m:\u001b[0m\u001b[1;33m\u001b[0m\u001b[0m\n\u001b[1;32m---> 16\u001b[1;33m             \u001b[0mg\u001b[0m\u001b[1;33m[\u001b[0m\u001b[0mi\u001b[0m\u001b[1;33m]\u001b[0m \u001b[1;33m=\u001b[0m \u001b[1;33m(\u001b[0m\u001b[0ml\u001b[0m \u001b[1;33m-\u001b[0m\u001b[0mx\u001b[0m\u001b[1;33m[\u001b[0m\u001b[0mi\u001b[0m\u001b[1;33m]\u001b[0m\u001b[1;33m)\u001b[0m\u001b[1;33m+\u001b[0m\u001b[1;33m(\u001b[0m\u001b[0mx\u001b[0m\u001b[1;33m[\u001b[0m\u001b[0mi\u001b[0m\u001b[1;33m+\u001b[0m\u001b[1;36m1\u001b[0m\u001b[1;33m]\u001b[0m\u001b[1;33m-\u001b[0m\u001b[1;36m1\u001b[0m\u001b[1;33m)\u001b[0m\u001b[1;33m\u001b[0m\u001b[0m\n\u001b[0m\u001b[0;32m     17\u001b[0m         \u001b[1;31m#rule two\u001b[0m\u001b[1;33m\u001b[0m\u001b[1;33m\u001b[0m\u001b[0m\n\u001b[0;32m     18\u001b[0m         \u001b[1;32mif\u001b[0m \u001b[0mg\u001b[0m\u001b[1;33m[\u001b[0m\u001b[0mi\u001b[0m\u001b[1;33m]\u001b[0m \u001b[1;33m==\u001b[0m \u001b[1;36m0\u001b[0m\u001b[1;33m:\u001b[0m\u001b[1;33m\u001b[0m\u001b[0m\n",
        "\u001b[1;31mTypeError\u001b[0m: 'function' object is not subscriptable"
       ]
      },
      {
       "output_type": "stream",
       "stream": "stdout",
       "text": [
        "Initial position and velocities [[ 4 12 14 33 36]\n",
        " [ 4  9  6  3  7]]\n",
        "[]\n"
       ]
      }
     ],
     "prompt_number": 8
    },
    {
     "cell_type": "markdown",
     "metadata": {},
     "source": [
      "ASEP Rule Variation:\n",
      "\n",
      "Pick one car at random.\n",
      "\n",
      "I. Let $g_i$ equal the number of empty sites in front of each car.\n",
      "\n",
      "II. If $g_i$ = 0, that car does not move during this time step.\n",
      "\n",
      "III. If $v_i$ is greater than $g_i$, slow down to $v_i$ = $g_i$\n",
      "\n",
      "IV. If $v_i$ is less than $g_i$ and $v_i$ is less than $v_{max}$ the.speed up by one unit: $v_i$ = $v_i$ +1.\n",
      "\n",
      "V.Move this car forward by $v_i$."
     ]
    },
    {
     "cell_type": "code",
     "collapsed": false,
     "input": [
      "def AESP(x,v,l):\n",
      "    \"\"\" AESP that takes an array of car positions and veloc-\n",
      "ities along with the road length as arguments.\"\"\" \n",
      "    vmax = 10\n",
      "    g= []\n",
      "    l = arange(0,40)\n",
      "    car = rand.choice(numberofcars) #picking random car #http://stackoverflow.com/questions/1058712/how-do-i-select-a-random-element-from-an-array-in-python\n",
      "    \n",
      "    for i in range(numberofcars):\n",
      "        #rule one\n",
      "        if i > (numberofcars-1): #switched signs due to advice of Ian \n",
      "            g[i] = np.append((l-x[i])+(x[i+1] -1))\n",
      "        elif i > (numberofcars-1) and x[i+1] > x[i]:\n",
      "            g[i] = np.append(abs(x[i+1]-x[i])-1)\n",
      "        else:\n",
      "            g[i] = (l -x[i])+(x[i+1]-1)\n",
      "        #rule two\n",
      "        if g[car[i]] == 0:\n",
      "            #x[i] = x[i]\n",
      "            v[car[i]] = 0 \n",
      "        #rule three\n",
      "        elif v[car[i]] > g[car[i]]:\n",
      "            v[car[i]] = g[car[i]] \n",
      "        #rule four\n",
      "        elif v[car[i]] < g[car[i]] and v[car[i]] < vmax:\n",
      "            v[car[i]] = v[car[i]] + 1\n",
      "\n",
      "    #rule five\n",
      "    for j in range(numberofcars):\n",
      "        x[car[i]] = x[car[i]] + v[car[i]]\n",
      "        if x[car[i]] > l:\n",
      "          x[car[i]]= v[car[i]]-(l-x[car[i]]) #car loops around    \n",
      "    \n",
      "    print\"New velocities\",v\n",
      "    print\"New Positions\",x\n",
      "    print\"Spaces Between Cars\", g"
     ],
     "language": "python",
     "metadata": {},
     "outputs": [],
     "prompt_number": 14
    },
    {
     "cell_type": "code",
     "collapsed": false,
     "input": [
      "print \"Initial position and velocities\",road(5,40,10) \n",
      "print g\n",
      "AESP(ori_position,ori_velocity,l)"
     ],
     "language": "python",
     "metadata": {},
     "outputs": [
      {
       "ename": "TypeError",
       "evalue": "object of type 'int' has no len()",
       "output_type": "pyerr",
       "traceback": [
        "\u001b[1;31m---------------------------------------------------------------------------\u001b[0m\n\u001b[1;31mTypeError\u001b[0m                                 Traceback (most recent call last)",
        "\u001b[1;32m<ipython-input-15-1e6a54bc2b2c>\u001b[0m in \u001b[0;36m<module>\u001b[1;34m()\u001b[0m\n\u001b[0;32m      1\u001b[0m \u001b[1;32mprint\u001b[0m \u001b[1;34m\"Initial position and velocities\"\u001b[0m\u001b[1;33m,\u001b[0m\u001b[0mroad\u001b[0m\u001b[1;33m(\u001b[0m\u001b[1;36m5\u001b[0m\u001b[1;33m,\u001b[0m\u001b[1;36m40\u001b[0m\u001b[1;33m,\u001b[0m\u001b[1;36m10\u001b[0m\u001b[1;33m)\u001b[0m\u001b[1;33m\u001b[0m\u001b[0m\n\u001b[0;32m      2\u001b[0m \u001b[1;32mprint\u001b[0m \u001b[0mg\u001b[0m\u001b[1;33m\u001b[0m\u001b[0m\n\u001b[1;32m----> 3\u001b[1;33m \u001b[0mAESP\u001b[0m\u001b[1;33m(\u001b[0m\u001b[0mori_position\u001b[0m\u001b[1;33m,\u001b[0m\u001b[0mori_velocity\u001b[0m\u001b[1;33m,\u001b[0m\u001b[0ml\u001b[0m\u001b[1;33m)\u001b[0m\u001b[1;33m\u001b[0m\u001b[0m\n\u001b[0m",
        "\u001b[1;32m<ipython-input-14-733e27c0d15a>\u001b[0m in \u001b[0;36mAESP\u001b[1;34m(x, v, l)\u001b[0m\n\u001b[0;32m      5\u001b[0m     \u001b[0mg\u001b[0m\u001b[1;33m=\u001b[0m \u001b[1;33m[\u001b[0m\u001b[1;33m]\u001b[0m\u001b[1;33m\u001b[0m\u001b[0m\n\u001b[0;32m      6\u001b[0m     \u001b[0ml\u001b[0m \u001b[1;33m=\u001b[0m \u001b[0marange\u001b[0m\u001b[1;33m(\u001b[0m\u001b[1;36m0\u001b[0m\u001b[1;33m,\u001b[0m\u001b[1;36m40\u001b[0m\u001b[1;33m)\u001b[0m\u001b[1;33m\u001b[0m\u001b[0m\n\u001b[1;32m----> 7\u001b[1;33m     \u001b[0mcar\u001b[0m \u001b[1;33m=\u001b[0m \u001b[0mrand\u001b[0m\u001b[1;33m.\u001b[0m\u001b[0mchoice\u001b[0m\u001b[1;33m(\u001b[0m\u001b[0mnumberofcars\u001b[0m\u001b[1;33m)\u001b[0m \u001b[1;31m#picking random car #http://stackoverflow.com/questions/1058712/how-do-i-select-a-random-element-from-an-array-in-python\u001b[0m\u001b[1;33m\u001b[0m\u001b[0m\n\u001b[0m\u001b[0;32m      8\u001b[0m \u001b[1;33m\u001b[0m\u001b[0m\n\u001b[0;32m      9\u001b[0m     \u001b[1;32mfor\u001b[0m \u001b[0mi\u001b[0m \u001b[1;32min\u001b[0m \u001b[0mrange\u001b[0m\u001b[1;33m(\u001b[0m\u001b[0mnumberofcars\u001b[0m\u001b[1;33m)\u001b[0m\u001b[1;33m:\u001b[0m\u001b[1;33m\u001b[0m\u001b[0m\n",
        "\u001b[1;32m/usr/lib/python2.7/random.pyc\u001b[0m in \u001b[0;36mchoice\u001b[1;34m(self, seq)\u001b[0m\n\u001b[0;32m    272\u001b[0m     \u001b[1;32mdef\u001b[0m \u001b[0mchoice\u001b[0m\u001b[1;33m(\u001b[0m\u001b[0mself\u001b[0m\u001b[1;33m,\u001b[0m \u001b[0mseq\u001b[0m\u001b[1;33m)\u001b[0m\u001b[1;33m:\u001b[0m\u001b[1;33m\u001b[0m\u001b[0m\n\u001b[0;32m    273\u001b[0m         \u001b[1;34m\"\"\"Choose a random element from a non-empty sequence.\"\"\"\u001b[0m\u001b[1;33m\u001b[0m\u001b[0m\n\u001b[1;32m--> 274\u001b[1;33m         \u001b[1;32mreturn\u001b[0m \u001b[0mseq\u001b[0m\u001b[1;33m[\u001b[0m\u001b[0mint\u001b[0m\u001b[1;33m(\u001b[0m\u001b[0mself\u001b[0m\u001b[1;33m.\u001b[0m\u001b[0mrandom\u001b[0m\u001b[1;33m(\u001b[0m\u001b[1;33m)\u001b[0m \u001b[1;33m*\u001b[0m \u001b[0mlen\u001b[0m\u001b[1;33m(\u001b[0m\u001b[0mseq\u001b[0m\u001b[1;33m)\u001b[0m\u001b[1;33m)\u001b[0m\u001b[1;33m]\u001b[0m  \u001b[1;31m# raises IndexError if seq is empty\u001b[0m\u001b[1;33m\u001b[0m\u001b[0m\n\u001b[0m\u001b[0;32m    275\u001b[0m \u001b[1;33m\u001b[0m\u001b[0m\n\u001b[0;32m    276\u001b[0m     \u001b[1;32mdef\u001b[0m \u001b[0mshuffle\u001b[0m\u001b[1;33m(\u001b[0m\u001b[0mself\u001b[0m\u001b[1;33m,\u001b[0m \u001b[0mx\u001b[0m\u001b[1;33m,\u001b[0m \u001b[0mrandom\u001b[0m\u001b[1;33m=\u001b[0m\u001b[0mNone\u001b[0m\u001b[1;33m,\u001b[0m \u001b[0mint\u001b[0m\u001b[1;33m=\u001b[0m\u001b[0mint\u001b[0m\u001b[1;33m)\u001b[0m\u001b[1;33m:\u001b[0m\u001b[1;33m\u001b[0m\u001b[0m\n",
        "\u001b[1;31mTypeError\u001b[0m: object of type 'int' has no len()"
       ]
      },
      {
       "output_type": "stream",
       "stream": "stdout",
       "text": [
        "Initial position and velocities [[ 2 12 13 20 24]\n",
        " [ 9  3  5  9  9]]\n",
        "[]\n"
       ]
      }
     ],
     "prompt_number": 15
    },
    {
     "cell_type": "heading",
     "level": 1,
     "metadata": {},
     "source": [
      "Plots :"
     ]
    },
    {
     "cell_type": "markdown",
     "metadata": {},
     "source": [
      "#### CA184:"
     ]
    },
    {
     "cell_type": "markdown",
     "metadata": {},
     "source": [
      "Current vs Time"
     ]
    },
    {
     "cell_type": "code",
     "collapsed": false,
     "input": [
      "#somehow need to call CA184 function and store information"
     ],
     "language": "python",
     "metadata": {},
     "outputs": [],
     "prompt_number": 3
    },
    {
     "cell_type": "code",
     "collapsed": false,
     "input": [
      "t = arange(0,150)\n",
      "plot(t,current)\n",
      "xlabel('Time')\n",
      "ylabel('Current')\n",
      "legend()\n",
      "show()"
     ],
     "language": "python",
     "metadata": {},
     "outputs": [
      {
       "ename": "NameError",
       "evalue": "name 'current' is not defined",
       "output_type": "pyerr",
       "traceback": [
        "\u001b[1;31m---------------------------------------------------------------------------\u001b[0m\n\u001b[1;31mNameError\u001b[0m                                 Traceback (most recent call last)",
        "\u001b[1;32m<ipython-input-2-41d4d026df44>\u001b[0m in \u001b[0;36m<module>\u001b[1;34m()\u001b[0m\n\u001b[0;32m      1\u001b[0m \u001b[0mt\u001b[0m \u001b[1;33m=\u001b[0m \u001b[0marange\u001b[0m\u001b[1;33m(\u001b[0m\u001b[1;36m0\u001b[0m\u001b[1;33m,\u001b[0m\u001b[1;36m150\u001b[0m\u001b[1;33m)\u001b[0m\u001b[1;33m\u001b[0m\u001b[0m\n\u001b[1;32m----> 2\u001b[1;33m \u001b[0mplot\u001b[0m\u001b[1;33m(\u001b[0m\u001b[0mt\u001b[0m\u001b[1;33m,\u001b[0m\u001b[0mcurrent\u001b[0m\u001b[1;33m)\u001b[0m\u001b[1;33m\u001b[0m\u001b[0m\n\u001b[0m\u001b[0;32m      3\u001b[0m \u001b[0mxlabel\u001b[0m\u001b[1;33m(\u001b[0m\u001b[1;34m'Time'\u001b[0m\u001b[1;33m)\u001b[0m\u001b[1;33m\u001b[0m\u001b[0m\n\u001b[0;32m      4\u001b[0m \u001b[0mylabel\u001b[0m\u001b[1;33m(\u001b[0m\u001b[1;34m'Current'\u001b[0m\u001b[1;33m)\u001b[0m\u001b[1;33m\u001b[0m\u001b[0m\n\u001b[0;32m      5\u001b[0m \u001b[0mlegend\u001b[0m\u001b[1;33m(\u001b[0m\u001b[1;33m)\u001b[0m\u001b[1;33m\u001b[0m\u001b[0m\n",
        "\u001b[1;31mNameError\u001b[0m: name 'current' is not defined"
       ]
      }
     ],
     "prompt_number": 2
    },
    {
     "cell_type": "markdown",
     "metadata": {},
     "source": [
      "Position vs Time"
     ]
    },
    {
     "cell_type": "code",
     "collapsed": false,
     "input": [
      "plot(t,x)\n",
      "xlabel('Position')\n",
      "ylabel('Time')\n",
      "legend()\n",
      "show()"
     ],
     "language": "python",
     "metadata": {},
     "outputs": []
    },
    {
     "cell_type": "markdown",
     "metadata": {},
     "source": [
      "#### SCTA:"
     ]
    },
    {
     "cell_type": "markdown",
     "metadata": {},
     "source": [
      "Current vs Time"
     ]
    },
    {
     "cell_type": "code",
     "collapsed": false,
     "input": [
      "t = arange(0,150)\n",
      "plot(t,current)\n",
      "xlabel('Time')\n",
      "ylabel('Current')\n",
      "legend()\n",
      "show()"
     ],
     "language": "python",
     "metadata": {},
     "outputs": []
    },
    {
     "cell_type": "markdown",
     "metadata": {},
     "source": [
      "Position vs Time"
     ]
    },
    {
     "cell_type": "code",
     "collapsed": false,
     "input": [
      "plot(t,x)\n",
      "xlabel('Time')\n",
      "ylabel('Position')\n",
      "legend()\n",
      "show()"
     ],
     "language": "python",
     "metadata": {},
     "outputs": []
    },
    {
     "cell_type": "markdown",
     "metadata": {},
     "source": [
      "#### AESP:"
     ]
    },
    {
     "cell_type": "markdown",
     "metadata": {},
     "source": [
      "Current vs Time"
     ]
    },
    {
     "cell_type": "code",
     "collapsed": false,
     "input": [
      "t=arange(0,150)\n",
      "xlabel('Time')\n",
      "ylabel('Current')\n",
      "legend()\n",
      "show()"
     ],
     "language": "python",
     "metadata": {},
     "outputs": []
    },
    {
     "cell_type": "markdown",
     "metadata": {},
     "source": [
      "Position vs Time"
     ]
    },
    {
     "cell_type": "code",
     "collapsed": false,
     "input": [
      "xlabel('Time')\n",
      "ylabel('Position')\n",
      "legend()\n",
      "show()"
     ],
     "language": "python",
     "metadata": {},
     "outputs": []
    },
    {
     "cell_type": "heading",
     "level": 1,
     "metadata": {},
     "source": [
      "Density:"
     ]
    },
    {
     "cell_type": "markdown",
     "metadata": {},
     "source": [
      "#### Create road/car pairs for values between 0 and 0.8. Road is long enough to have 10 cars on it, at least, for each case. Run simulation for 150 time steps and plot average velocity vs. density for each rule set.Identity any phase transitions which will be sharp (possibly discontinuous)change in the shape of the data."
     ]
    },
    {
     "cell_type": "markdown",
     "metadata": {},
     "source": [
      "CA184:"
     ]
    },
    {
     "cell_type": "markdown",
     "metadata": {},
     "source": [
      "SCTA:"
     ]
    },
    {
     "cell_type": "markdown",
     "metadata": {},
     "source": [
      "AESP:"
     ]
    },
    {
     "cell_type": "code",
     "collapsed": false,
     "input": [],
     "language": "python",
     "metadata": {},
     "outputs": []
    }
   ],
   "metadata": {}
  }
 ]
}