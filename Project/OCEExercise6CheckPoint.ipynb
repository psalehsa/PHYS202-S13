{
 "metadata": {
  "name": "OCEExercise6CheckPoint"
 },
 "nbformat": 3,
 "nbformat_minor": 0,
 "worksheets": [
  {
   "cells": [
    {
     "cell_type": "markdown",
     "metadata": {},
     "source": [
      "CA184 Rule Variation:\n",
      "\n",
      "I. Let $g_i$ equal the number of empty sites in front of each car.\n",
      "\n",
      "II. If $g_i$ = 0, that car does not move during this time step.\n",
      "III. If $v_i$ is greater than $g_i$, slow down to $v_i$ = $g_i$\n",
      "\n",
      "IV. If $v_i$ is less than $g_i$ and $v_i$ is less than $v_max$ the.speed up by one unit: $v_i$ = $v_i$ +1.\n",
      "\n",
      "V.For $v_i$ is greather than 0, allow for random slow downs by letting $v_i$ = $v_i$ - 1 with probability p.\n",
      "\n",
      "VI. Move all cars forward by $v_i$."
     ]
    },
    {
     "cell_type": "code",
     "collapsed": false,
     "input": [
      "import numpy as np\n",
      "p = np.array([1,2,3,4,5], dtype=float) #position - meters\n",
      "v = np.array([5,10,15,20,25],dtype=float) #velocity - m/s\n",
      "l = 40 #road length - meters\n",
      "numberofcars = 5\n"
     ],
     "language": "python",
     "metadata": {},
     "outputs": [],
     "prompt_number": 1
    },
    {
     "cell_type": "code",
     "collapsed": false,
     "input": [
      "def CA184(p,v,l):\n",
      "    "
     ],
     "language": "python",
     "metadata": {},
     "outputs": []
    }
   ],
   "metadata": {}
  }
 ]
}