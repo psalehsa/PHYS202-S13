{
 "metadata": {
  "name": "OCEExercise6CheckPoint"
 },
 "nbformat": 3,
 "nbformat_minor": 0,
 "worksheets": [
  {
   "cells": [
    {
     "cell_type": "markdown",
     "metadata": {},
     "source": [
      "CA184 Rule Variation:\n",
      "\n",
      "I. Let $g_i$ equal the number of empty sites in front of each car.\n",
      "\n",
      "II. If $g_i$ = 0, that car does not move during this time step.\n",
      "\n",
      "III. If $v_i$ is greater than $g_i$, slow down to $v_i$ = $g_i$\n",
      "\n",
      "IV. If $v_i$ is less than $g_i$ and $v_i$ is less than $v_{max}$ the.speed up by one unit: $v_i$ = $v_i$ +1.\n",
      "\n",
      "V.For $v_i$ is greather than 0, allow for random slow downs by letting $v_i$ = $v_i$ - 1 with probability p.\n",
      "\n",
      "VI. Move all cars forward by $v_i$."
     ]
    },
    {
     "cell_type": "code",
     "collapsed": false,
     "input": [
      "import numpy as np\n",
      "import random\n",
      "x = [] #position - meters\n",
      "v = [] #velocity - m/s\n",
      "l = 40 #road length - meters\n",
      "g = [] #number of spaces between each car\n",
      "numberofcars = 5\n",
      "\n"
     ],
     "language": "python",
     "metadata": {},
     "outputs": [],
     "prompt_number": 15
    },
    {
     "cell_type": "code",
     "collapsed": false,
     "input": [
      "def CA184(x,v,l):\n",
      "    prob = 0\n",
      "    if g == 0:\n",
      "        position = x\n",
      "    if v > g:\n",
      "        v = g \n",
      "    if v < g and v < vmax:\n",
      "        v = v + 1\n",
      "    if v > 0 and random.randit(1,100) <=100*prob :\n",
      "        v = v -1 "
     ],
     "language": "python",
     "metadata": {},
     "outputs": [],
     "prompt_number": 12
    },
    {
     "cell_type": "code",
     "collapsed": false,
     "input": [
      "#CA184(x,v,l)"
     ],
     "language": "python",
     "metadata": {},
     "outputs": [],
     "prompt_number": 16
    },
    {
     "cell_type": "code",
     "collapsed": false,
     "input": [],
     "language": "python",
     "metadata": {},
     "outputs": []
    }
   ],
   "metadata": {}
  }
 ]
}