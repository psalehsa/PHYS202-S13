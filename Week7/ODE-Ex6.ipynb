{
 "metadata": {
  "name": "ODE-Ex6"
 },
 "nbformat": 3,
 "nbformat_minor": 0,
 "worksheets": [
  {
   "cells": [
    {
     "cell_type": "heading",
     "level": 1,
     "metadata": {},
     "source": [
      "ODE - Exercise 6"
     ]
    },
    {
     "cell_type": "markdown",
     "metadata": {},
     "source": [
      "(1)\n",
      "\n",
      "Example 1 and Exercise 1 from Thursday (5-16) are in my PHYS202-S13 repository, in my Week7 directory, under Ex 6 - Thursday Notes."
     ]
    },
    {
     "cell_type": "markdown",
     "metadata": {},
     "source": [
      "(2)\n",
      "\n",
      "The termnial velocity for a projectile subject to quadratic drag is given by\n",
      "\n",
      "$v_{ter} = \\sqrt{\\frac{2mg}{Cp_{air}A}}$\n",
      "\n",
      "where m is the mass of the projectile, g is the gravitation constant, C is the coefficient of quadratic drag, $p_{air}$ is the density of air and A is the cross-sectinoal area of the projectile. C = 0.5 for typicl conditions and $p_{air}$ = $1.29 g/m^3$ near sea level. The parameters for a ariety of projectiles are show in Table 1 on polylearn for reference."
     ]
    },
    {
     "cell_type": "markdown",
     "metadata": {},
     "source": [
      "(3) \n",
      "\n",
      "Project Checkpoint for Project 2 - on Project directory."
     ]
    },
    {
     "cell_type": "code",
     "collapsed": false,
     "input": [],
     "language": "python",
     "metadata": {},
     "outputs": []
    }
   ],
   "metadata": {}
  }
 ]
}