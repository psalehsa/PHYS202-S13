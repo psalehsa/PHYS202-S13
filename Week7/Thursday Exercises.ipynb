{
 "metadata": {
  "name": "Thursday Exercises"
 },
 "nbformat": 3,
 "nbformat_minor": 0,
 "worksheets": [
  {
   "cells": [
    {
     "cell_type": "heading",
     "level": 1,
     "metadata": {},
     "source": [
      "Euler's Method"
     ]
    },
    {
     "cell_type": "markdown",
     "metadata": {},
     "source": [
      "### Exercise 1"
     ]
    },
    {
     "cell_type": "markdown",
     "metadata": {},
     "source": [
      "(a) Use Euler's method to solve the following first-order differential equation with given initial condition y(0) = 0\n",
      "$ \\frac{dy}{dx} = x + 2y $"
     ]
    },
    {
     "cell_type": "markdown",
     "metadata": {},
     "source": [
      "Find the value of y when x = 1, that is y(1), using at first a step size of 0.25 , and then 0.02. "
     ]
    },
    {
     "cell_type": "code",
     "collapsed": false,
     "input": [
      "dydx = lambda x,y: x+(2*y)"
     ],
     "language": "python",
     "metadata": {},
     "outputs": [],
     "prompt_number": 3
    },
    {
     "cell_type": "code",
     "collapsed": false,
     "input": [],
     "language": "python",
     "metadata": {},
     "outputs": []
    },
    {
     "cell_type": "markdown",
     "metadata": {},
     "source": [
      "(b) Plot the results from part (a) for the two different step sizes with the exact solution \n",
      "\n",
      "$ y = 0.25e^{2x}-0.5x-0.25 $\n",
      "\n",
      "on one plot. Include a legend ."
     ]
    },
    {
     "cell_type": "code",
     "collapsed": false,
     "input": [],
     "language": "python",
     "metadata": {},
     "outputs": [],
     "prompt_number": 3
    },
    {
     "cell_type": "markdown",
     "metadata": {},
     "source": [
      "(c) Now solve the same problem using Euler-Cromer and the Midpoint method , using the same pair of step sizes and plot the results along with the exact solution. Instead of plotting the solutions , plot the difference between the approximate numerical solutions and exact solution. What combination of method and stepsize gives the best result? "
     ]
    },
    {
     "cell_type": "code",
     "collapsed": false,
     "input": [],
     "language": "python",
     "metadata": {},
     "outputs": []
    }
   ],
   "metadata": {}
  }
 ]
}