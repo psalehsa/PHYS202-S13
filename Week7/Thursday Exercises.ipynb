{
 "metadata": {
  "name": "Thursday Exercises"
 },
 "nbformat": 3,
 "nbformat_minor": 0,
 "worksheets": [
  {
   "cells": [
    {
     "cell_type": "heading",
     "level": 1,
     "metadata": {},
     "source": [
      "Euler's Method"
     ]
    },
    {
     "cell_type": "markdown",
     "metadata": {},
     "source": [
      "### Example 1"
     ]
    },
    {
     "cell_type": "markdown",
     "metadata": {},
     "source": [
      "Once the problem is first order , we can integrate instead of differentiating. Integrating the acceleration tells us the velocity at some later time if we know it at some earlier time; we can derive the position in a similar stepwise fashion from the velocity. \n",
      "\n",
      "Starting at a time  $t_0$ at some known positions $r(t_0)$ and with some known velocity  $v(t_0)$, we can calculate the change in velocity in going  from a time$t_0$ to a time $t_1 = t_0  + \\Delta t$\n",
      "\n",
      "$v(t_1) = v(t_0) + a(t_0) \\Delta t $\n",
      "\n",
      "and for position:\n",
      "\n",
      "$r(t_1) = r(t_0) + (t_0) \\Delta t $\n",
      "\n",
      "This is the Euler Method - based on tangent line approximation\n",
      "\n",
      "$t_{n+1} = t_n + \\Delta t $\n",
      "\n",
      "$v_{n+1} = v_n + a_n \\Delta t $\n",
      "\n",
      "$r_{n+1} = r_n + v_n \\Delta t $"
     ]
    },
    {
     "cell_type": "markdown",
     "metadata": {},
     "source": [
      "Let's say we want to numerically calculate the velocity  and  position of a mass falling freely under the force of gravity. Near the surface of earth,  we know  the acceleration of gravity is constant, $a(t) = - g = -9.8 m/s^2$ We can compute this new velocity from the velocity and the acceleration."
     ]
    },
    {
     "cell_type": "markdown",
     "metadata": {},
     "source": [
      "### Exercise 1"
     ]
    },
    {
     "cell_type": "markdown",
     "metadata": {},
     "source": [
      "(a) Use Euler's method to solve the following first-order differential equation with given initial condition y(0) = 0\n",
      "$ \\frac{dy}{dx} = x + 2y $"
     ]
    },
    {
     "cell_type": "markdown",
     "metadata": {},
     "source": [
      "Find the value of y when x = 1, that is y(1), using at first a step size of 0.25 , and then 0.02. "
     ]
    },
    {
     "cell_type": "code",
     "collapsed": false,
     "input": [
      "import math\n",
      "x=arange(0.,10.,0.1)\n",
      "def Euler():\n",
      "    dydx = lambda x,y: x + (2*y)\n",
      "    x1=0\n",
      "    x2=1\n",
      "    y1=0\n",
      "    ss = 0.25\n",
      "    h = (x2 - x1)/ss \n",
      "    x = x1\n",
      "    y = y1\n",
      "    for i in range(int(ss)):\n",
      "        y = y + h*dydx\n",
      "        x = x +h\n",
      "        return int(y)\n",
      "print Euler()"
     ],
     "language": "python",
     "metadata": {},
     "outputs": [
      {
       "output_type": "stream",
       "stream": "stdout",
       "text": [
        "None\n"
       ]
      }
     ],
     "prompt_number": 1
    },
    {
     "cell_type": "code",
     "collapsed": false,
     "input": [
      "def Euler():\n",
      "    dydx = lambda x,y: x + (2*y)\n",
      "    x1=0\n",
      "    x2=1\n",
      "    y1=0\n",
      "    ss = 0.25\n",
      "    h = (x2 - x1)/ss \n",
      "    x = x1\n",
      "    y = y1\n",
      "    for i in range(int(ss)):\n",
      "        y = y + h*dydx\n",
      "        x = x +h\n",
      "        return int(y)\n",
      "print Euler()"
     ],
     "language": "python",
     "metadata": {},
     "outputs": [
      {
       "output_type": "stream",
       "stream": "stdout",
       "text": [
        "None\n"
       ]
      }
     ],
     "prompt_number": 2
    },
    {
     "cell_type": "markdown",
     "metadata": {},
     "source": [
      "(b) Plot the results from part (a) for the two different step sizes with the exact solution \n",
      "\n",
      "$ y = 0.25e^{2x}-0.5x-0.25 $\n",
      "\n",
      "on one plot. Include a legend ."
     ]
    },
    {
     "cell_type": "code",
     "collapsed": false,
     "input": [
      "yexact = 0.25*e**(2*x)-0.5*x-0.25\n",
      "plot(x,yexact,label='y(1) exact')\n",
      "#plot(x,y1, label='y(1) step size of 0.25)\n",
      "#plot(x,y2, label ='y(1) step size of 0.02)\n",
      "legend(loc = \"upper right\")\n",
      "show()"
     ],
     "language": "python",
     "metadata": {},
     "outputs": [
      {
       "output_type": "display_data",
       "png": "[encoded data removed]"
      }
     ],
     "prompt_number": 5
    },
    {
     "cell_type": "markdown",
     "metadata": {},
     "source": [
      "(c) Now solve the same problem using Euler-Cromer and the Midpoint method , using the same pair of step sizes and plot the results along with the exact solution. Instead of plotting the solutions , plot the difference between the approximate numerical solutions and exact solution. What combination of method and stepsize gives the best result? "
     ]
    },
    {
     "cell_type": "code",
     "collapsed": false,
     "input": [],
     "language": "python",
     "metadata": {},
     "outputs": []
    }
   ],
   "metadata": {}
  }
 ]
}