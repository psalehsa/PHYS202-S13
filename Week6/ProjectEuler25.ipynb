{
 "metadata": {
  "name": "ProjectEuler25"
 },
 "nbformat": 3,
 "nbformat_minor": 0,
 "worksheets": [
  {
   "cells": [
    {
     "cell_type": "heading",
     "level": 1,
     "metadata": {},
     "source": [
      "Project Euler # 25"
     ]
    },
    {
     "cell_type": "markdown",
     "metadata": {},
     "source": [
      "#### What is the first term in the Fibonacci sequence containing 1000 digits?"
     ]
    },
    {
     "cell_type": "code",
     "collapsed": false,
     "input": [
      "def Fibonacci(n):\n",
      "    if n == 1:\n",
      "        fib = 1\n",
      "    elif n == 2:\n",
      "        fib = 1\n",
      "    elif n == 3:\n",
      "        fib = 2\n",
      "    else:\n",
      "        f_two=1\n",
      "        f_three=2\n",
      "        fib = 0\n",
      "        for i in range(2,n):\n",
      "            fib = f_three\n",
      "            f_three = f_three + f_two\n",
      "            f_two = fib\n",
      "    return fib\n",
      "#print Fibonacci(4)\n",
      "#print Fibonacci(5)\n",
      "print Fibonacci (12)"
     ],
     "language": "python",
     "metadata": {},
     "outputs": [
      {
       "output_type": "stream",
       "stream": "stdout",
       "text": [
        "144\n"
       ]
      }
     ],
     "prompt_number": 16
    },
    {
     "cell_type": "markdown",
     "metadata": {},
     "source": [
      "Checking to see if code works properly:"
     ]
    },
    {
     "cell_type": "code",
     "collapsed": false,
     "input": [
      "print Fibonacci(6)"
     ],
     "language": "python",
     "metadata": {},
     "outputs": [
      {
       "output_type": "stream",
       "stream": "stdout",
       "text": [
        "8\n"
       ]
      }
     ],
     "prompt_number": 17
    },
    {
     "cell_type": "code",
     "collapsed": false,
     "input": [
      "print Fibonacci(9)"
     ],
     "language": "python",
     "metadata": {},
     "outputs": [
      {
       "output_type": "stream",
       "stream": "stdout",
       "text": [
        "34\n"
       ]
      }
     ],
     "prompt_number": 18
    },
    {
     "cell_type": "markdown",
     "metadata": {},
     "source": [
      "But we now we to find out what n is!"
     ]
    },
    {
     "cell_type": "code",
     "collapsed": false,
     "input": [
      "def Fibonacci2():\n",
      "        f_two=1\n",
      "        f_three= 2\n",
      "        fib=0\n",
      "        count = 3 #because f_three is n = 3, need to keep track of n\n",
      "        while len(str(f_three)) <1000: #like in last euler, have to convert to string to measure length\n",
      "            fib = f_three\n",
      "            f_three = f_three + f_two\n",
      "            f_two = fib\n",
      "            count = count + 1 # keeps increasing count of n at a steadily rate until f_three has 1000 digits\n",
      "        return count\n",
      "    \n",
      "\n",
      "print Fibonacci2(), \"is the first term that has 1000 digits! :)\""
     ],
     "language": "python",
     "metadata": {},
     "outputs": [
      {
       "output_type": "stream",
       "stream": "stdout",
       "text": [
        "4782 is the first term that has 1000 digits! :)\n"
       ]
      }
     ],
     "prompt_number": 19
    },
    {
     "cell_type": "code",
     "collapsed": false,
     "input": [
      "# to check if correct: using first defined function\n",
      "fib1 = str(Fibonacci(4782))\n",
      "if len(fib1) == 1000:\n",
      "    print int(fib1)\n",
      "    print \"Wow, 1000 digits!\""
     ],
     "language": "python",
     "metadata": {},
     "outputs": [
      {
       "output_type": "stream",
       "stream": "stdout",
       "text": [
        "1070066266382758936764980584457396885083683896632151665013235203375314520604694040621889147582489792657804694888177591957484336466672569959512996030461262748092482186144069433051234774442750273781753087579391666192149259186759553966422837148943113074699503439547001985432609723067290192870526447243726117715821825548491120525013201478612965931381792235559657452039506137551467837543229119602129934048260706175397706847068202895486902666185435124521900369480641357447470911707619766945691070098024393439617474103736912503231365532164773697023167755051595173518460579954919410967778373229665796581646513903488154256310184224190259846088000110186255550245493937113651657039447629584714548523425950428582425306083544435428212611008992863795048006894330309773217834864543113205765659868456288616808718693835297350643986297640660000723562917905207051164077614812491885830945940566688339109350944456576357666151619317753792891661581327159616877487983821820492520348473874384736771934512787029218636250627816\n",
        "Wow, 1000 digits!\n"
       ]
      }
     ],
     "prompt_number": 20
    },
    {
     "cell_type": "code",
     "collapsed": false,
     "input": [],
     "language": "python",
     "metadata": {},
     "outputs": []
    }
   ],
   "metadata": {}
  }
 ]
}