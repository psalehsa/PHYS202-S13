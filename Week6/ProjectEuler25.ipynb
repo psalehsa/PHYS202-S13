{
 "metadata": {
  "name": "ProjectEuler25"
 },
 "nbformat": 3,
 "nbformat_minor": 0,
 "worksheets": [
  {
   "cells": [
    {
     "cell_type": "heading",
     "level": 1,
     "metadata": {},
     "source": [
      "Project Euler # 25"
     ]
    },
    {
     "cell_type": "markdown",
     "metadata": {},
     "source": [
      "#### What is the first term in the Fibonacci sequence containing 1000 digits?"
     ]
    },
    {
     "cell_type": "code",
     "collapsed": false,
     "input": [
      "def Fibonacci(n):\n",
      "    if n == 1:\n",
      "        fib = 1\n",
      "    elif n == 2:\n",
      "        fib = 1\n",
      "    elif n == 3:\n",
      "        fib = 2\n",
      "    else:\n",
      "        f_two=1\n",
      "        f_three=2\n",
      "        fib = 0\n",
      "        for i in range(2,n):\n",
      "            fib = f_three\n",
      "            f_three = f_three + f_two\n",
      "            f_two = fib\n",
      "    return fib\n",
      "#print Fibonacci(4)\n",
      "#print Fibonacci(5)\n",
      "print Fibonacci (12)"
     ],
     "language": "python",
     "metadata": {},
     "outputs": [
      {
       "output_type": "stream",
       "stream": "stdout",
       "text": [
        "144\n"
       ]
      }
     ],
     "prompt_number": 1
    },
    {
     "cell_type": "markdown",
     "metadata": {},
     "source": [
      "Checking to see if code works properly:"
     ]
    },
    {
     "cell_type": "code",
     "collapsed": false,
     "input": [
      "print Fibonacci(6)"
     ],
     "language": "python",
     "metadata": {},
     "outputs": [
      {
       "output_type": "stream",
       "stream": "stdout",
       "text": [
        "8\n"
       ]
      }
     ],
     "prompt_number": 2
    },
    {
     "cell_type": "code",
     "collapsed": false,
     "input": [
      "print Fibonacci(9)"
     ],
     "language": "python",
     "metadata": {},
     "outputs": [
      {
       "output_type": "stream",
       "stream": "stdout",
       "text": [
        "34\n"
       ]
      }
     ],
     "prompt_number": 3
    },
    {
     "cell_type": "markdown",
     "metadata": {},
     "source": [
      "But we now we to find out what n is!"
     ]
    },
    {
     "cell_type": "code",
     "collapsed": false,
     "input": [
      "def Fibonacci():\n",
      "        f_two=1\n",
      "        f_three= 2\n",
      "        fib=0\n",
      "        count = 3 #because f_three is n = 3\n",
      "        while len(str(f_three)) <1000: #like in last euler, have to convert to string to measure length\n",
      "            fib = f_three\n",
      "            f_three = f_three + f_two\n",
      "            f_two = fib\n",
      "            count = count + 1 # keeps increasing count at a steadily rate until f_three has 1000 digits\n",
      "        print count,\"has 1000 digits! :)\""
     ],
     "language": "python",
     "metadata": {},
     "outputs": [],
     "prompt_number": 6
    },
    {
     "cell_type": "code",
     "collapsed": false,
     "input": [
      "print Fibonacci()"
     ],
     "language": "python",
     "metadata": {},
     "outputs": [
      {
       "output_type": "stream",
       "stream": "stdout",
       "text": [
        "4782 has 1000 digits! :)\n",
        "None\n"
       ]
      }
     ],
     "prompt_number": 7
    },
    {
     "cell_type": "code",
     "collapsed": false,
     "input": [],
     "language": "python",
     "metadata": {},
     "outputs": []
    }
   ],
   "metadata": {}
  }
 ]
}