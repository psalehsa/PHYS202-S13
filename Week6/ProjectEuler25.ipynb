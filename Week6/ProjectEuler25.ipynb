{
 "metadata": {
  "name": "ProjectEuler25"
 },
 "nbformat": 3,
 "nbformat_minor": 0,
 "worksheets": [
  {
   "cells": [
    {
     "cell_type": "heading",
     "level": 1,
     "metadata": {},
     "source": [
      "Project Euler # 25"
     ]
    },
    {
     "cell_type": "markdown",
     "metadata": {},
     "source": [
      "#### What is the first term in the Fibonacci sequence containing 1000 digits?"
     ]
    },
    {
     "cell_type": "code",
     "collapsed": false,
     "input": [
      "def Fibonacci(n):\n",
      "    if n == 1:\n",
      "        fib = 1\n",
      "    elif n == 2:\n",
      "        fib = 1\n",
      "    elif n == 3:\n",
      "        fib = 2\n",
      "    else:\n",
      "        f_one=1\n",
      "        f_two=1\n",
      "        f_n= f_two + f_one\n",
      "        for i in range(2,n):\n",
      "            fib = f_two + f_one\n",
      "            f_one = f_n           \n",
      "            f_n = fib\n",
      "    return fib\n",
      "print Fibonacci(4)"
     ],
     "language": "python",
     "metadata": {},
     "outputs": [
      {
       "output_type": "stream",
       "stream": "stdout",
       "text": [
        "3\n"
       ]
      }
     ],
     "prompt_number": 1
    },
    {
     "cell_type": "code",
     "collapsed": false,
     "input": [],
     "language": "python",
     "metadata": {},
     "outputs": []
    }
   ],
   "metadata": {}
  }
 ]
}