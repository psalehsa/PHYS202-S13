{
 "metadata": {
  "name": "ProjectEuler4"
 },
 "nbformat": 3,
 "nbformat_minor": 0,
 "worksheets": [
  {
   "cells": [
    {
     "cell_type": "heading",
     "level": 1,
     "metadata": {},
     "source": [
      "Largest Palidrome Product"
     ]
    },
    {
     "cell_type": "markdown",
     "metadata": {},
     "source": [
      "### Project Euler Number 4"
     ]
    },
    {
     "cell_type": "markdown",
     "metadata": {},
     "source": [
      "A palindromic number reads the same both ways. The largest palindrome made from the product of two 2-digit numbers is 9009 = 91 99.\n",
      "\n",
      "Find the largest palindrome made from the product of two 3-digit numbers."
     ]
    },
    {
     "cell_type": "code",
     "collapsed": false,
     "input": [
      "def palindrome():\n",
      "    largest_palindrome=1\n",
      "    for a in range(100,1000):\n",
      "        for b in range(100,1000):\n",
      "            c = str(a*b)\n",
      "            #if len(c) == 5: #multiplied 100 * 999 to see length\n",
      "                #if c[1]==c[5]:\n",
      "                    #if c[2]==c[4]:\n",
      "                        #return c\n",
      "                    #else:\n",
      "                        #return 0\n",
      "                #else:\n",
      "                    #return 0\n",
      "            #elif len(c) == 6: #multiplied 999*999 to see length\n",
      "                #if c[1]==c[6]:\n",
      "                    #if c[2]==c[5]:\n",
      "                        #if c[3]==c[4]:\n",
      "                            #return c\n",
      "                        #else:\n",
      "                            #return 0\n",
      "                    #else:\n",
      "                        #return 0\n",
      "                #else:\n",
      "                    #return 0 \n",
      "             #this doesn't work because can't use length function on int\n",
      "            #str() http://docs.python.org/2/library/functions.html\n",
      "            d=c[::-1] #d = backwards/reverse of c\n",
      "            if c == d: #if c is the same as itself backwards then it is a palindrome!\n",
      "                c = int(c) # turns string into an integer to be able to compare to largest palindrome\n",
      "                if c > largest_palindrome:\n",
      "                    largest_palindrome = c \n",
      "    return largest_palindrome\n",
      "def answer():\n",
      "    print \"The largest palindrome is \", palindrome(),\".\"#\" which is the product of \",a,\" and \",b\n",
      "\n",
      "answer()"
     ],
     "language": "python",
     "metadata": {},
     "outputs": [
      {
       "output_type": "stream",
       "stream": "stdout",
       "text": [
        "The largest palindrome is  "
       ]
      },
      {
       "output_type": "stream",
       "stream": "stdout",
       "text": [
        "906609 .\n"
       ]
      }
     ],
     "prompt_number": 16
    },
    {
     "cell_type": "code",
     "collapsed": false,
     "input": [],
     "language": "python",
     "metadata": {},
     "outputs": []
    }
   ],
   "metadata": {}
  }
 ]
}