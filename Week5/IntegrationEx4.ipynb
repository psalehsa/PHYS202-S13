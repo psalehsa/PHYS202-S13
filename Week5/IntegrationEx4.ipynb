{
 "metadata": {
  "name": "IntegrationEx4"
 },
 "nbformat": 3,
 "nbformat_minor": 0,
 "worksheets": [
  {
   "cells": [
    {
     "cell_type": "markdown",
     "metadata": {},
     "source": [
      "1."
     ]
    },
    {
     "cell_type": "markdown",
     "metadata": {},
     "source": [
      "a)Write code to calculate E(x) for values of x from 0 to 3 in steps of 0.1."
     ]
    },
    {
     "cell_type": "code",
     "collapsed": false,
     "input": [
      "# Using Trapezoidal Method:\n",
      "import math\n",
      "E = lambda t: e**(-t**2)\n",
      "N = 10\n",
      "x1 = 0.0\n",
      "x2 = 3.0\n",
      "h = (x2-x1)/N\n",
      "s = 0.5*E(x1) + 0.5*E(x2)\n",
      "for k in range(1,N):\n",
      "    s += E(x1+k*h)\n",
      "print (h*s)"
     ],
     "language": "python",
     "metadata": {},
     "outputs": [
      {
       "output_type": "stream",
       "stream": "stdout",
       "text": [
        "0.886202033637\n"
       ]
      }
     ],
     "prompt_number": 3
    },
    {
     "cell_type": "code",
     "collapsed": false,
     "input": [
      "# checked answer on http://www.wolframalpha.com/input/?i=integrate+e%5E%28-t%5E2%29+dt+from+0+to+3"
     ],
     "language": "python",
     "metadata": {},
     "outputs": [],
     "prompt_number": 1
    },
    {
     "cell_type": "markdown",
     "metadata": {},
     "source": [
      "b) Make a graph of E(x) as a function of x."
     ]
    },
    {
     "cell_type": "code",
     "collapsed": false,
     "input": [
      "x= arange(0.,3.,0.1)\n",
      "myplot = plot(x,E(x),lw=3)\n",
      "ylabel(r'$E(x)$', fontsize=20)\n",
      "xlabel(r'$x$',fontsize = 20)\n",
      "show()"
     ],
     "language": "python",
     "metadata": {},
     "outputs": [
      {
       "output_type": "display_data",
       "png": "[encoded data removed]"
      }
     ],
     "prompt_number": 4
    },
    {
     "cell_type": "markdown",
     "metadata": {},
     "source": [
      " 2 Consider a particle in a one-dimensional box of width L. "
     ]
    },
    {
     "cell_type": "markdown",
     "metadata": {},
     "source": [
      "a) What is the probability of finding the particle between L/3 and L/2 for the ground state and for the first excited state?"
     ]
    },
    {
     "cell_type": "code",
     "collapsed": false,
     "input": [
      "import scipy.special as integrate\n",
      "from scipy.integrate import quad, trapz\n",
      "import math\n",
      "from math import *"
     ],
     "language": "python",
     "metadata": {},
     "outputs": [],
     "prompt_number": 1
    },
    {
     "cell_type": "markdown",
     "metadata": {},
     "source": [
      "According to pg 153 of Modern Physics by Randy Harris:\n",
      "    \n",
      "Wave equation for a particle in a box:\n",
      "    \n",
      "$\\psi_n(x) = \\sqrt{\\frac{2}{L}}sin\\frac{n\\pi x}{L}$ for  $ 0 < x < L $\n",
      "\n",
      "\n",
      "$\\psi_n(x)= 0$  for  $  x <0,x > L   $\n",
      "\n"
     ]
    },
    {
     "cell_type": "code",
     "collapsed": false,
     "input": [
      "N = 1000\n",
      "L= 1\n",
      "a = 0.33 #L/3\n",
      "b = 0.5 #L/2\n",
      "h = (b-a)/N\n",
      "ground_state= lambda x: (((2/L)**(1/2))*sin((pi*x)/L))**2 # n = 1\n",
      "first_excited_state= lambda x: (((2/L)**(1/2))*sin((2*pi*x)/L))**2 # n = 2\n",
      "#print \"Probability at ground state is \",trapz(ground_state)\n",
      "#print \"Probability at first excited state is \",trapz(first_excited_state)\n",
      "print \"Ground state quad, \",quad(ground_state,a,b)\n",
      "print \"First excited state quad, \",quad(first_excited_state,a,b)"
     ],
     "language": "python",
     "metadata": {},
     "outputs": [
      {
       "output_type": "stream",
       "stream": "stdout",
       "text": [
        "Ground state quad,  (0.15473426989671443, 1.717895491378956e-15)\n",
        "First excited state quad,  (0.05140525926645715, 5.707130242444641e-16)\n"
       ]
      }
     ],
     "prompt_number": 3
    },
    {
     "cell_type": "code",
     "collapsed": false,
     "input": [],
     "language": "python",
     "metadata": {},
     "outputs": []
    }
   ],
   "metadata": {}
  }
 ]
}