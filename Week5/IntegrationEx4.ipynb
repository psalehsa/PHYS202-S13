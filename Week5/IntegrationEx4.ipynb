{
 "metadata": {
  "name": "IntegrationEx4"
 },
 "nbformat": 3,
 "nbformat_minor": 0,
 "worksheets": [
  {
   "cells": [
    {
     "cell_type": "markdown",
     "metadata": {},
     "source": [
      "1."
     ]
    },
    {
     "cell_type": "markdown",
     "metadata": {},
     "source": [
      "a)Write code to calculate E(x) for values of x from 0 to 3 in steps of 0.1."
     ]
    },
    {
     "cell_type": "code",
     "collapsed": false,
     "input": [
      "# Using Trapezoidal Method:\n",
      "import math\n",
      "E = lambda t: e**(-t**2)\n",
      "N = 10\n",
      "x1 = 0.0\n",
      "x2 = 3.0\n",
      "h = (x2-x1)/N\n",
      "s = 0.5*E(x1) + 0.5*E(x2)\n",
      "for k in range(1,N):\n",
      "    s += E(x1+k*h)\n",
      "print (h*s)"
     ],
     "language": "python",
     "metadata": {},
     "outputs": [
      {
       "output_type": "stream",
       "stream": "stdout",
       "text": [
        "0.886202033637\n"
       ]
      }
     ],
     "prompt_number": 3
    },
    {
     "cell_type": "code",
     "collapsed": false,
     "input": [
      "# checked answer on http://www.wolframalpha.com/input/?i=integrate+e%5E%28-t%5E2%29+dt+from+0+to+3"
     ],
     "language": "python",
     "metadata": {},
     "outputs": [],
     "prompt_number": 1
    },
    {
     "cell_type": "markdown",
     "metadata": {},
     "source": [
      "b) Make a graph of E(x) as a function of x."
     ]
    },
    {
     "cell_type": "code",
     "collapsed": false,
     "input": [
      "x= arange(0.,3.,0.1)\n",
      "myplot = plot(x,E(x),lw=3)\n",
      "ylabel(r'$E(x)$', fontsize=20)\n",
      "xlabel(r'$x$',fontsize = 20)\n",
      "show()"
     ],
     "language": "python",
     "metadata": {},
     "outputs": [
      {
       "output_type": "display_data",
       "png": "[encoded data removed]"
      }
     ],
     "prompt_number": 4
    },
    {
     "cell_type": "markdown",
     "metadata": {},
     "source": [
      " 2 Consider a particle in a one-dimensional box of width L. "
     ]
    },
    {
     "cell_type": "markdown",
     "metadata": {},
     "source": [
      "a) What is the probability of finding the particle between L/3 and L/2 for the ground state and for the first excited state?"
     ]
    },
    {
     "cell_type": "code",
     "collapsed": false,
     "input": [
      "import scipy.special as integrate\n",
      "from scipy.integrate import quad, trapz\n",
      "import math\n",
      "from math import *"
     ],
     "language": "python",
     "metadata": {},
     "outputs": [],
     "prompt_number": 1
    },
    {
     "cell_type": "markdown",
     "metadata": {},
     "source": [
      "According to pg 153 of Modern Physics by Randy Harris:\n",
      "    \n",
      "Wave equation for a particle in a box:\n",
      "    \n",
      "$\\psi_n(x) = \\sqrt{\\frac{2}{L}}sin\\frac{n\\pi x}{L}$ for  $ 0 < x < L $\n",
      "\n",
      "\n",
      "$\\psi_n(x)= 0$  for  $  x <0,x > L   $\n",
      "\n"
     ]
    },
    {
     "cell_type": "code",
     "collapsed": false,
     "input": [
      "N = 1000\n",
      "L= 1.\n",
      "a = L/3.\n",
      "b = L/2.\n",
      "h = (b-a)/N\n",
      "x=arange(a,b,h)\n",
      "ground_state= lambda x: (((2/L)**(1/2))*np.sin((pi*x)/L))**2 # n = 1\n",
      "first_excited_state= lambda x: (((2/L)**(1/2))*np.sin((2*pi*x)/L))**2 # n = 2\n",
      "print \"Probability at ground state is \",trapz(ground_state(x))\n",
      "print \"Probability at first excited state is \",trapz(first_excited_state(x))\n",
      "print \"Ground state quad, \",quad(ground_state,a,b)\n",
      "print \"First excited state quad, \",quad(first_excited_state,a,b)"
     ],
     "language": "python",
     "metadata": {},
     "outputs": [
      {
       "output_type": "stream",
       "stream": "stdout",
       "text": [
        " Probability at ground state is  912.496633916\n",
        "Probability at first excited state is  293.251739244\n",
        "Ground state quad,  (0.15224944526105735, 1.690308396152333e-15)\n",
        "First excited state quad,  (0.04887527736947137, 5.426245827052797e-16)\n"
       ]
      }
     ],
     "prompt_number": 4
    },
    {
     "cell_type": "markdown",
     "metadata": {},
     "source": [
      "b)  To see if this makes sense, please $|\\psi(x)|^2 $ vs . $x$ for L=1."
     ]
    },
    {
     "cell_type": "code",
     "collapsed": false,
     "input": [
      "ground_state= lambda x: (((2/L)**(1/2))*np.sin((pi*x)/L))**2 # n = 1\n",
      "x = arange(a,b,h)\n",
      "myplot = plot(x,ground_state(x),lw=3)\n",
      "ylabel(r'$|\\psi(x)|^2$', fontsize=20)\n",
      "xlabel(r'$x$',fontsize = 20)\n",
      "show()"
     ],
     "language": "python",
     "metadata": {},
     "outputs": [
      {
       "output_type": "display_data",
       "png": "[encoded data removed]"
      }
     ],
     "prompt_number": 6
    },
    {
     "cell_type": "markdown",
     "metadata": {},
     "source": [
      "3"
     ]
    },
    {
     "cell_type": "markdown",
     "metadata": {},
     "source": [
      "a)"
     ]
    },
    {
     "cell_type": "code",
     "collapsed": false,
     "input": [
      "def H(n,x):\n",
      "        if n == 0:\n",
      "            h = 1\n",
      "        elif n == 1:\n",
      "            h = 2*x\n",
      "        elif n == 2:\n",
      "            h =(2*x)*(2*x) - 2#http://physicspages.com/2011/02/11/hermite-polynomials/\n",
      "        else:\n",
      "            h_zero= 1\n",
      "            h_one=2*x\n",
      "            h_n=2*x*h_one-2*n*h_zero \n",
      "            for i in range(2,n+1):\n",
      "                h=(2*x*h_n)-(2*i*h_one)\n",
      "                h_one = h_n\n",
      "                h_n=h\n",
      "        return h\n",
      "\n",
      "#def answer():\n",
      "    #print H(0,2)\n",
      "    #print H(1,2)\n",
      "    #print H(2,2)\n",
      "    #print H(3,2)\n",
      "#answer()\n",
      "def wavefunction(n,x):\n",
      "    wave1 = (1/(((2**n)*factorial(n)*sqrt(pi))**(1/2)))*(e**((-x**2)/2))*H(0,-4)\n",
      "    wave2 = (1/(((2**n)*factorial(n)*sqrt(pi))**(1/2)))*(e**((-x**2)/2))*H(1,-4)\n",
      "    wave3 = (1/(((2**n)*factorial(n)*sqrt(pi))**(1/2)))*(e**((-x**2)/2))*H(2,-4)\n",
      "    wave4 = (1/(((2**n)*factorial(n)*sqrt(pi))**(1/2)))*(e**((-x**2)/2))*H(3,-4)\n",
      "    wave5 = (1/(((2**n)*factorial(n)*sqrt(pi))**(1/2)))*(e**((-x**2)/2))*H(0,-3)\n",
      "    wave6 = (1/(((2**n)*factorial(n)*sqrt(pi))**(1/2)))*(e**((-x**2)/2))*H(1,-3)\n",
      "    wave7 = (1/(((2**n)*factorial(n)*sqrt(pi))**(1/2)))*(e**((-x**2)/2))*H(2,-3)\n",
      "    wave8 = (1/(((2**n)*factorial(n)*sqrt(pi))**(1/2)))*(e**((-x**2)/2))*H(3,-3)\n",
      "    wave9 = (1/(((2**n)*factorial(n)*sqrt(pi))**(1/2)))*(e**((-x**2)/2))*H(0,-2)\n",
      "    wave10 = (1/(((2**n)*factorial(n)*sqrt(pi))**(1/2)))*(e**((-x**2)/2))*H(1,-2)\n",
      "    wave11 = (1/(((2**n)*factorial(n)*sqrt(pi))**(1/2)))*(e**((-x**2)/2))*H(2,-2)\n",
      "    wave12 = (1/(((2**n)*factorial(n)*sqrt(pi))**(1/2)))*(e**((-x**2)/2))*H(3,-2)\n",
      "    wave13 = (1/(((2**n)*factorial(n)*sqrt(pi))**(1/2)))*(e**((-x**2)/2))*H(0,-1)\n",
      "    wave14 = (1/(((2**n)*factorial(n)*sqrt(pi))**(1/2)))*(e**((-x**2)/2))*H(1,-1)\n",
      "    wave15 = (1/(((2**n)*factorial(n)*sqrt(pi))**(1/2)))*(e**((-x**2)/2))*H(2,-1)\n",
      "    wave16 = (1/(((2**n)*factorial(n)*sqrt(pi))**(1/2)))*(e**((-x**2)/2))*H(3,-1)\n",
      "    wave17 = (1/(((2**n)*factorial(n)*sqrt(pi))**(1/2)))*(e**((-x**2)/2))*H(0,0)\n",
      "    wave18 = (1/(((2**n)*factorial(n)*sqrt(pi))**(1/2)))*(e**((-x**2)/2))*H(1,0)\n",
      "    wave19 = (1/(((2**n)*factorial(n)*sqrt(pi))**(1/2)))*(e**((-x**2)/2))*H(2,0)\n",
      "    wave20 = (1/(((2**n)*factorial(n)*sqrt(pi))**(1/2)))*(e**((-x**2)/2))*H(3,0)\n",
      "    wave21 = (1/(((2**n)*factorial(n)*sqrt(pi))**(1/2)))*(e**((-x**2)/2))*H(0,1)\n",
      "    wave22 = (1/(((2**n)*factorial(n)*sqrt(pi))**(1/2)))*(e**((-x**2)/2))*H(1,1)\n",
      "    wave23 = (1/(((2**n)*factorial(n)*sqrt(pi))**(1/2)))*(e**((-x**2)/2))*H(2,1)\n",
      "    wave24 = (1/(((2**n)*factorial(n)*sqrt(pi))**(1/2)))*(e**((-x**2)/2))*H(3,1)\n",
      "    wave25 = (1/(((2**n)*factorial(n)*sqrt(pi))**(1/2)))*(e**((-x**2)/2))*H(0,2)\n",
      "    wave26 = (1/(((2**n)*factorial(n)*sqrt(pi))**(1/2)))*(e**((-x**2)/2))*H(1,2)\n",
      "    wave27 = (1/(((2**n)*factorial(n)*sqrt(pi))**(1/2)))*(e**((-x**2)/2))*H(2,2)\n",
      "    wave28 = (1/(((2**n)*factorial(n)*sqrt(pi))**(1/2)))*(e**((-x**2)/2))*H(3,2)\n",
      "    wave29 = (1/(((2**n)*factorial(n)*sqrt(pi))**(1/2)))*(e**((-x**2)/2))*H(0,3)\n",
      "    wave30 = (1/(((2**n)*factorial(n)*sqrt(pi))**(1/2)))*(e**((-x**2)/2))*H(1,3)\n",
      "    wave31 = (1/(((2**n)*factorial(n)*sqrt(pi))**(1/2)))*(e**((-x**2)/2))*H(2,3)\n",
      "    wave32 = (1/(((2**n)*factorial(n)*sqrt(pi))**(1/2)))*(e**((-x**2)/2))*H(3,3)\n",
      "    wave33 = (1/(((2**n)*factorial(n)*sqrt(pi))**(1/2)))*(e**((-x**2)/2))*H(0,4)\n",
      "    wave34 = (1/(((2**n)*factorial(n)*sqrt(pi))**(1/2)))*(e**((-x**2)/2))*H(1,4)\n",
      "    wave35 = (1/(((2**n)*factorial(n)*sqrt(pi))**(1/2)))*(e**((-x**2)/2))*H(2,4)\n",
      "    wave36 = (1/(((2**n)*factorial(n)*sqrt(pi))**(1/2)))*(e**((-x**2)/2))*H(3,4)"
     ],
     "language": "python",
     "metadata": {},
     "outputs": [],
     "prompt_number": 7
    },
    {
     "cell_type": "markdown",
     "metadata": {},
     "source": [
      "b)"
     ]
    },
    {
     "cell_type": "markdown",
     "metadata": {},
     "source": [
      "b"
     ]
    },
    {
     "cell_type": "markdown",
     "metadata": {},
     "source": [
      "c)"
     ]
    },
    {
     "cell_type": "code",
     "collapsed": false,
     "input": [],
     "language": "python",
     "metadata": {},
     "outputs": [],
     "prompt_number": 7
    },
    {
     "cell_type": "markdown",
     "metadata": {},
     "source": [
      "4  Monto Carlo integration in dimension"
     ]
    },
    {
     "cell_type": "markdown",
     "metadata": {},
     "source": [
      "a)"
     ]
    },
    {
     "cell_type": "code",
     "collapsed": false,
     "input": [
      "f=lambda x: 4*np.sqrt(1-x**2)\n",
      "x = arange(0.,1.,0.01)\n",
      "myplot = plot(x,f(x),lw=3)\n",
      "ylabel(r'$f(x)$',fontsize=20)\n",
      "xlabel(r'$x$', fontsize=20)\n",
      "xlim(0.,1.)\n",
      "show()"
     ],
     "language": "python",
     "metadata": {},
     "outputs": [
      {
       "output_type": "display_data",
       "png": "[encoded data removed]"
      }
     ],
     "prompt_number": 8
    },
    {
     "cell_type": "code",
     "collapsed": false,
     "input": [
      "f=lambda x: 4*np.sqrt(1-x**2)\n",
      "x = arange(0.,1.,0.01)\n",
      "N=1000\n",
      "xmin=0.0\n",
      "xmax=1.\n",
      "subx = x[logical_and((x > xmin),(x < xmax))]\n",
      "ymax = max(f(subx))*1.05\n",
      "ymin = 0.\n",
      "samples_x = xmin + (xmax-xmin)*random_sample(N);\n",
      "samples_y = ymin + (ymax - ymin)*random_sample(N);\n",
      "myplot = plot(x,f(x),lw=3)\n",
      "ylabel(r'$f(x)$',fontsize=20)\n",
      "xlabel(r'$x$', fontsize=20)\n",
      "xlim(0.0,1.)\n",
      "plot(samples_x[1:200],samples_y[1:200],'.')\n",
      "plot([xmin,xmin],[ymin,ymax], color='k', linestyle='--') #vertical left\n",
      "plot([xmax,xmax],[ymin,ymax], color='k',linestyle='--') #vertical right\n",
      "plot([xmin,xmax],[ymax,ymax],color='k',linestyle='--') #horizontal top\n",
      "show()"
     ],
     "language": "python",
     "metadata": {},
     "outputs": [
      {
       "output_type": "display_data",
       "png": "[encoded data removed]"
      }
     ],
     "prompt_number": 1
    },
    {
     "cell_type": "code",
     "collapsed": false,
     "input": [
      "newmask = (samples_y < f(samples_x))"
     ],
     "language": "python",
     "metadata": {},
     "outputs": [],
     "prompt_number": 2
    },
    {
     "cell_type": "code",
     "collapsed": false,
     "input": [
      "#replot the funaction\n",
      "myplot = plot(x,f(x),lw=3)\n",
      "xlim(0.,1.)\n",
      "\n",
      "plot(samples_x[1:200],samples_y[1:200],'.')\n",
      "#show the ones below the function in red\n",
      "plot(samples_x[newmask[:200]],samples_y[newmask[:200]],'r.')\n",
      "\n",
      "#plot the box\n",
      "plot([xmin,xmin],[ymin,ymax], color='k', linestyle='--') #vertical left\n",
      "plot([xmax,xmax],[ymin,ymax], color='k',linestyle='--') #vertical right\n",
      "plot([xmin,xmax],[ymax,ymax],color='k',linestyle='--') #horizontal top\n",
      "\n",
      "show()"
     ],
     "language": "python",
     "metadata": {},
     "outputs": [
      {
       "output_type": "display_data",
       "png": "[encoded data removed]"
      }
     ],
     "prompt_number": 3
    },
    {
     "cell_type": "code",
     "collapsed": false,
     "input": [
      "newmask = (samples_y < f(samples_x))\n",
      "I = (xmax - xmin)*(ymax-ymin)*sum(newmask)/newmask.size\n",
      "print I"
     ],
     "language": "python",
     "metadata": {},
     "outputs": [
      {
       "output_type": "stream",
       "stream": "stdout",
       "text": [
        "3.22123892597\n"
       ]
      }
     ],
     "prompt_number": 4
    },
    {
     "cell_type": "markdown",
     "metadata": {},
     "source": [
      "b)"
     ]
    },
    {
     "cell_type": "code",
     "collapsed": false,
     "input": [
      "Ierr = 100*(I-pi)/pi\n",
      "print \"Percent error = \",Ierr, \"%\""
     ],
     "language": "python",
     "metadata": {},
     "outputs": [
      {
       "output_type": "stream",
       "stream": "stdout",
       "text": [
        "Percent error =  2.53521958973 %\n"
       ]
      }
     ],
     "prompt_number": 6
    },
    {
     "cell_type": "code",
     "collapsed": false,
     "input": [],
     "language": "python",
     "metadata": {},
     "outputs": []
    },
    {
     "cell_type": "code",
     "collapsed": false,
     "input": [],
     "language": "python",
     "metadata": {},
     "outputs": []
    },
    {
     "cell_type": "code",
     "collapsed": false,
     "input": [],
     "language": "python",
     "metadata": {},
     "outputs": []
    }
   ],
   "metadata": {}
  }
 ]
}