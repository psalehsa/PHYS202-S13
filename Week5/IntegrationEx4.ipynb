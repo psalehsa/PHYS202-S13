{
 "metadata": {
  "name": "IntegrationEx4"
 },
 "nbformat": 3,
 "nbformat_minor": 0,
 "worksheets": [
  {
   "cells": [
    {
     "cell_type": "markdown",
     "metadata": {},
     "source": [
      "1."
     ]
    },
    {
     "cell_type": "markdown",
     "metadata": {},
     "source": [
      "a)Write code to calculate E(x) for values of x from 0 to 3 in steps of 0.1."
     ]
    },
    {
     "cell_type": "code",
     "collapsed": false,
     "input": [],
     "language": "python",
     "metadata": {},
     "outputs": []
    },
    {
     "cell_type": "markdown",
     "metadata": {},
     "source": [
      "b) Make a graph of E(x) as a function of x."
     ]
    },
    {
     "cell_type": "code",
     "collapsed": false,
     "input": [],
     "language": "python",
     "metadata": {},
     "outputs": []
    },
    {
     "cell_type": "markdown",
     "metadata": {},
     "source": [
      "2.  Consider a particle in a one-dimensional box of width L. "
     ]
    },
    {
     "cell_type": "code",
     "collapsed": false,
     "input": [
      "a)"
     ],
     "language": "python",
     "metadata": {},
     "outputs": []
    }
   ],
   "metadata": {}
  }
 ]
}