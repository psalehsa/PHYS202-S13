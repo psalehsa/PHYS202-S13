{
 "metadata": {
  "name": "Week8NotesandExercises"
 },
 "nbformat": 3,
 "nbformat_minor": 0,
 "worksheets": [
  {
   "cells": [
    {
     "cell_type": "heading",
     "level": 1,
     "metadata": {},
     "source": [
      "Random numbers and Monte Carlo Simulations"
     ]
    },
    {
     "cell_type": "code",
     "collapsed": false,
     "input": [
      "import numpy.random"
     ],
     "language": "python",
     "metadata": {},
     "outputs": [],
     "prompt_number": 1
    },
    {
     "cell_type": "code",
     "collapsed": false,
     "input": [
      "#print 5 uniformly distributed numbers between 0 and 1 \n",
      "print numpy.random.random(5)"
     ],
     "language": "python",
     "metadata": {},
     "outputs": [
      {
       "output_type": "stream",
       "stream": "stdout",
       "text": [
        "[ 0.61397881  0.08827436  0.52213845  0.05736501  0.95030411]\n"
       ]
      }
     ],
     "prompt_number": 2
    },
    {
     "cell_type": "code",
     "collapsed": false,
     "input": [
      "#print another 5 - should be different\n",
      "print numpy.random.random(5)"
     ],
     "language": "python",
     "metadata": {},
     "outputs": [
      {
       "output_type": "stream",
       "stream": "stdout",
       "text": [
        "[ 0.06651445  0.88133622  0.3650034   0.37217668  0.1951875 ]\n"
       ]
      }
     ],
     "prompt_number": 4
    },
    {
     "cell_type": "code",
     "collapsed": false,
     "input": [
      "#now set the seed to something:\n",
      "numpy.random.seed(4242)"
     ],
     "language": "python",
     "metadata": {},
     "outputs": [],
     "prompt_number": 5
    },
    {
     "cell_type": "code",
     "collapsed": false,
     "input": [
      "#print 5 random numbers from the generator with this seed\n",
      "print \"Using seed = 4242:\"\n",
      "print numpy.random.random(5)"
     ],
     "language": "python",
     "metadata": {},
     "outputs": [
      {
       "output_type": "stream",
       "stream": "stdout",
       "text": [
        "Using seed = 4242:\n",
        "[ 0.32494949  0.94041458  0.91400794  0.28650938  0.78180262]\n"
       ]
      }
     ],
     "prompt_number": 6
    },
    {
     "cell_type": "code",
     "collapsed": false,
     "input": [
      "#Restore the seed to it's original 'None'\n",
      "numpy.random.seed(None)"
     ],
     "language": "python",
     "metadata": {},
     "outputs": [],
     "prompt_number": 7
    },
    {
     "cell_type": "code",
     "collapsed": false,
     "input": [
      "#print 5 more numbers using the new random seed\n",
      "print \"Using seed = None:\"\n",
      "print numpy.random.random(5)"
     ],
     "language": "python",
     "metadata": {},
     "outputs": [
      {
       "output_type": "stream",
       "stream": "stdout",
       "text": [
        "Using seed = None:\n",
        "[ 0.34877565  0.53760804  0.10479227  0.59993568  0.96194649]\n"
       ]
      }
     ],
     "prompt_number": 8
    },
    {
     "cell_type": "code",
     "collapsed": false,
     "input": [
      "#reset the seed to 4242 and print again\n",
      "numpy.random.seed(4242)\n",
      "print \"Using seed = 4242, we should get the same number as before:\"\n",
      "print numpy.random.random(5)"
     ],
     "language": "python",
     "metadata": {},
     "outputs": [
      {
       "output_type": "stream",
       "stream": "stdout",
       "text": [
        "Using seed = 4242, we should get the same number as before:\n",
        "[ 0.32494949  0.94041458  0.91400794  0.28650938  0.78180262]\n"
       ]
      }
     ],
     "prompt_number": 9
    },
    {
     "cell_type": "markdown",
     "metadata": {},
     "source": [
      "If we plot the normalized distribution of uniformly sampled random number in the range U[0,1] we should get a flat line at 1.0, subjet to random fluctuations. The more samples we take the smaller the fluctuations about the average value."
     ]
    },
    {
     "cell_type": "code",
     "collapsed": false,
     "input": [
      "numpy.random.seed(None) #reset the seed\n",
      "z = numpy.random.random(100000)\n",
      "hist(z,100,normed=True)\n",
      "plot([0,1.],[1.,1.],'r-',lw=3)\n",
      "xlabel(\"x\",fontsize=20)\n",
      "ylabel(\"sample probability\",fontsize=20)\n",
      "show()"
     ],
     "language": "python",
     "metadata": {},
     "outputs": [
      {
       "output_type": "display_data",
       "png": "[encoded data removed]"
      }
     ],
     "prompt_number": 10
    },
    {
     "cell_type": "markdown",
     "metadata": {},
     "source": [
      "This shows us that every value of $x$ is equally as likely to be chosen as every other value. But what if we wanted to increase the number of samples in a particular region of $x$ ? What if we wanted the probability to be distributed according to some funtion?"
     ]
    },
    {
     "cell_type": "heading",
     "level": 1,
     "metadata": {},
     "source": [
      "Sampling from a continuous distribution"
     ]
    },
    {
     "cell_type": "markdown",
     "metadata": {},
     "source": [
      "Suppose we want to sample random numbers from some continuous distribution, $f(x)$. The probability of getting a particular value $x_i$ should depend on the value of $f(x_i)$. We have two primary ways to go about this:\n",
      "\n",
      "I. Rejection Sampling\n",
      "\n",
      "II. Inverse CDF Transform Method\n",
      "\n",
      "(1) Generated a pair of random numbers $(x_i,y_,)$ within a box around our funtion, $f(x)$, then (2) checked to see whether the value of $y_i$ was greater than or less than the value $f(x_i)$. If $y_i$ was less than $f(x_i)$ we kept the values $(x_i,y_i)$ and if $y_i$ was greater than $f(x_i)$ we threw them out. Over many iterations, N, we \"fielled in\" the area defined by the funtion, which allowed us to computer the integral numerically by multiplying the area of the box times the ratio of the number of hits to misses. \n"
     ]
    },
    {
     "cell_type": "markdown",
     "metadata": {},
     "source": [
      "Rejection sampling works the same way, only instead of computing the integral, we use the $x_i$ samples as a discrete approximation of the original function. Here is a histogram of the number of times a particular value of $x_i$ was selected using rejection sampling for the function in the previous figure, normalized an plotted with the original function.   "
     ]
    },
    {
     "cell_type": "heading",
     "level": 1,
     "metadata": {},
     "source": [
      "Cumulative Distribution Funtion (CDF)"
     ]
    },
    {
     "cell_type": "markdown",
     "metadata": {},
     "source": [
      "CDF sounds horrible but it is really pretty straightforward. It is just the fraction of the probability distribution for a function $f(x)$ that lies below a particular value $x_i$ - the running integrated probability. $F(x)$ ranges from 0 at the lower bound of the function's range to 1 at the upper bound. It can be computed analytically if a funtion can be integrated analytically, or numerially otherwise. Here is an analytic eample:"
     ]
    },
    {
     "cell_type": "heading",
     "level": 1,
     "metadata": {},
     "source": [
      "Example 1: Analytic Inverse CDF Transform"
     ]
    },
    {
     "cell_type": "markdown",
     "metadata": {},
     "source": [
      "Consider the function:\n",
      "$f(x) = sin(x)/2$  for 0 <= x <= $\\pi$ \n",
      "\n",
      "$f(x)$      = 0          otherwise"
     ]
    },
    {
     "cell_type": "markdown",
     "metadata": {},
     "source": [
      "The cumulative distribution function $F(x)$ in this case  is just the integral of $f(x)$ below the bound:"
     ]
    },
    {
     "cell_type": "code",
     "collapsed": false,
     "input": [
      "x = arange(0.,pi+0.001,0.01)\n",
      "f = lambda x: sin(x)/2.\n",
      "F = lambda x: (cos(0)-cos(x))/2.\n",
      "    \n",
      "plot(x,f(x),label='True distribution',lw=3)\n",
      "plot(x,F(x),label='Cumulative funtion',lw=3)\n",
      "\n",
      "xlim(0,3.5)\n",
      "ylim(0,1.1)\n",
      "\n",
      "legend(loc=0)\n",
      "show()"
     ],
     "language": "python",
     "metadata": {},
     "outputs": [
      {
       "output_type": "display_data",
       "png": "[encoded data removed]"
      }
     ],
     "prompt_number": 11
    },
    {
     "cell_type": "markdown",
     "metadata": {},
     "source": [
      "$F^{-1}(z)= cos^{-1}(cos(0)-2z)$"
     ]
    },
    {
     "cell_type": "code",
     "collapsed": false,
     "input": [
      "#number of samples\n",
      "N = 10000\n",
      "\n",
      "#N random numbers between 0 and 1\n",
      "z =numpy.random.random_sample(N);\n",
      "\n",
      "#inverse CDF\n",
      "Finv = lambda z: arccos(cos(0)-2*z)\n",
      "    \n",
      "#sampled x values\n",
      "xsamples = Finv(z);\n",
      "\n",
      "#how do they compare to the original?\n",
      "hist(xsamples, 50, normed=True,label=\"Sampled Distribution\")\n",
      "plot(x,f(x),label='True Distribution',lw=3,color='red')\n",
      "\n",
      "xlim(0,pi)\n",
      "ylim(0,0.7)\n",
      "\n",
      "legend(loc=0)\n",
      "show()"
     ],
     "language": "python",
     "metadata": {},
     "outputs": [
      {
       "output_type": "display_data",
       "png": "[encoded data removed]"
      }
     ],
     "prompt_number": 16
    },
    {
     "cell_type": "heading",
     "level": 1,
     "metadata": {},
     "source": [
      "Exerise 1. Exponential function - analytic "
     ]
    },
    {
     "cell_type": "markdown",
     "metadata": {},
     "source": [
      "$ f(x) = \\lambda e^{-\\lambda x}$   0 $<= x <= \\inf $\n",
      "\n",
      "$f(x) = 0 $       otherwise "
     ]
    },
    {
     "cell_type": "markdown",
     "metadata": {},
     "source": [
      "(a) Determine the CDF $F(x)$ for this funtion analytically to obtain $F^{-1}$"
     ]
    },
    {
     "cell_type": "code",
     "collapsed": false,
     "input": [
      "#CDF is the integral of f(x) below the bound\n",
      "F = lambda x: 1-e**(lambda_1*x)\n",
      "Finv = lambda z: -log(1-z)/lambda_1"
     ],
     "language": "python",
     "metadata": {},
     "outputs": [],
     "prompt_number": 8
    },
    {
     "cell_type": "markdown",
     "metadata": {},
     "source": [
      "(b) Plot the function and CDF on the same plot over the range 0 <= $x$ <= 5. Let $\\lambda = 1.$"
     ]
    },
    {
     "cell_type": "code",
     "collapsed": false,
     "input": [
      "lambda_1 = 1\n",
      "x= arange(0.,5.01,.01)\n",
      "f = lambda x: lambda_1*e**(-lambda_1*x)\n",
      "F = lambda x: 1-e**(-lambda_1*x)\n",
      "plot(x,f(x), label = \"True Distribution\")\n",
      "plot(x,F(x), label = \"Cumulative Function\")\n",
      "legend(loc='upper right')\n",
      "show()"
     ],
     "language": "python",
     "metadata": {},
     "outputs": [
      {
       "output_type": "display_data",
       "png": "[encoded data removed]"
      }
     ],
     "prompt_number": 9
    },
    {
     "cell_type": "markdown",
     "metadata": {},
     "source": [
      "(c) Write a program to generate 10,000 samples according to the distribution of $f(x)$. Plot a histogram of the resulting samples, using 50 bins, along with the true distribution."
     ]
    },
    {
     "cell_type": "code",
     "collapsed": false,
     "input": [
      "N = 100000\n",
      "\n",
      "z = numpy.random.random_sample(N);\n",
      "\n",
      "\n",
      "    \n",
      "xsamples = Finv(z);\n",
      "\n",
      "hist(xsamples,50,normed=True,label=\"Sampled distribution\")\n",
      "plot(x,f(x),label=\"True distribution\",lw=3,color=\"red\")\n",
      "\n",
      "xlim(0.,pi)\n",
      "ylim(0.,0.7)\n",
      "\n",
      "legend(loc=0)\n",
      "show()"
     ],
     "language": "python",
     "metadata": {},
     "outputs": [
      {
       "output_type": "display_data",
       "png": "[encoded data removed]"
      }
     ],
     "prompt_number": 10
    },
    {
     "cell_type": "heading",
     "level": 1,
     "metadata": {},
     "source": [
      "Numerical Inverse CDF Transform"
     ]
    },
    {
     "cell_type": "markdown",
     "metadata": {},
     "source": [
      "It turns out that the function we wish to sample from need not be analytically solvable for $F(x)$ and $F^{-1}$. We can also determine the CDF and its inverse numerically and then obtain sampled values from that numerical inverse. In some ways it is actually conceptually simpler. The steps of the algorithm are as follows:\n"
     ]
    },
    {
     "cell_type": "markdown",
     "metadata": {},
     "source": [
      "I. Define the numerial array that describes the distribution\n",
      "\n",
      "II. Compute the CDF as an array numerically using the cumulative sum of the distribution array and normalizing each element by the integral(sum) of the distribution.\n",
      "\n",
      "III. Generate an array of uniform random values $z$ on the interval U[0,1]\n",
      "\n",
      "IV. Find the value in the DF array that orresponds to a particular $z_i$.\n",
      "\n",
      "V. Use the array index of the CDF value from the previous step to determine the sampled $x_i$ value for $z_i$. "
     ]
    },
    {
     "cell_type": "heading",
     "level": 1,
     "metadata": {},
     "source": [
      "Exercise 2. Exponential function - numerical"
     ]
    },
    {
     "cell_type": "markdown",
     "metadata": {},
     "source": [
      "(a) Write a program to implement the numerical inverse CDF transform algorithm for the exponential function from Exercise 2. You may wish to consult the numpy documentation for using the functions \"cumsum\" and \"searhsorted\". Let $\\lambda = 1. $"
     ]
    },
    {
     "cell_type": "code",
     "collapsed": false,
     "input": [],
     "language": "python",
     "metadata": {},
     "outputs": []
    },
    {
     "cell_type": "markdown",
     "metadata": {},
     "source": [
      "(b) Make a plot of the true distribution, the numerically determined CDF, and a histogram of 10,000 sampled values using 50 bins, on the same graph."
     ]
    },
    {
     "cell_type": "code",
     "collapsed": false,
     "input": [],
     "language": "python",
     "metadata": {},
     "outputs": []
    },
    {
     "cell_type": "markdown",
     "metadata": {},
     "source": [
      "(c) Turn your algorithm from part (a) into a reusable function that can be used for any 1-dimensional numerical distribution. Here is a function definition to get you started. "
     ]
    },
    {
     "cell_type": "code",
     "collapsed": false,
     "input": [
      "def distribute1D(x,prob,N): \n",
      "    \"\"\"takes any numerical distribution prob, on the interval defined by the array x, and returns an array of N sampled values that are statisically the same as the input data.\"\"\"\n",
      "    return xsamples\n"
     ],
     "language": "python",
     "metadata": {},
     "outputs": [],
     "prompt_number": 17
    },
    {
     "cell_type": "markdown",
     "metadata": {},
     "source": [
      "This function can be used in Project 2, for example, to sample from the Woods-Saxon density distribution."
     ]
    },
    {
     "cell_type": "heading",
     "level": 1,
     "metadata": {},
     "source": [
      "Built-in distribution functions"
     ]
    },
    {
     "cell_type": "heading",
     "level": 1,
     "metadata": {},
     "source": [
      "Exercise 3. Quantum double-slit experiment"
     ]
    },
    {
     "cell_type": "markdown",
     "metadata": {},
     "source": [
      "Let's consider the double-slit experiment as an example of the Monte Carlo simulation technique. In the lab, we relate the intensity of the observed beam (either photons or electrons) to the sum of the two waves, one from each slit.\n",
      "Each slit gives us a diffraction pattern,"
     ]
    },
    {
     "cell_type": "markdown",
     "metadata": {},
     "source": [
      "$I_{SS_{diffraction}} = A^2sin^2(\\pi ax/\\lambda L).$"
     ]
    },
    {
     "cell_type": "markdown",
     "metadata": {},
     "source": [
      "The double slit, however, is not just the sum of the two single slits, but rather includes an interference term,"
     ]
    },
    {
     "cell_type": "markdown",
     "metadata": {},
     "source": [
      "$I_{DS_{interference}} = A^2cos^2(2 \\pi dx / \\lambda L) , $"
     ]
    },
    {
     "cell_type": "markdown",
     "metadata": {},
     "source": [
      "due to the wave-nature of the photons or electrons. The observed intensity includes both the probability that the diffraction and interference are appreciable."
     ]
    },
    {
     "cell_type": "markdown",
     "metadata": {},
     "source": [
      "$ I_{DS_{total}} = I_{SS_{diffraction}}*I_{DS_{interference}} $"
     ]
    },
    {
     "cell_type": "markdown",
     "metadata": {},
     "source": [
      "Let the distance between the slits $d$ by 15 $um$ and the slit width a = 10 $um$ . The screen is 1 m from the plate with the slits. We will use a He-Neon laser with wavelength 632.8 nm. The screen size is (0.2 x 0.2) m ."
     ]
    },
    {
     "cell_type": "markdown",
     "metadata": {},
     "source": [
      "(a) Set up the probability distribution for this situation and use your distribute1D function from exercise 2 to generate 10,000 photons."
     ]
    },
    {
     "cell_type": "code",
     "collapsed": false,
     "input": [],
     "language": "python",
     "metadata": {},
     "outputs": []
    },
    {
     "cell_type": "markdown",
     "metadata": {},
     "source": [
      "(b) Make a one-dimensional plot of the true distribution with the sampled distribution as a histogram to verify that it does indeed accurately simulate the original intensity distribution."
     ]
    },
    {
     "cell_type": "code",
     "collapsed": false,
     "input": [],
     "language": "python",
     "metadata": {},
     "outputs": []
    },
    {
     "cell_type": "markdown",
     "metadata": {},
     "source": [
      "(c) Make 5 different plots of the locations of photons on the screen for (1) one photon, (2) 10 photons, (3) 100 photons, (4) 1,000 photons, (5) 10,000 photons. Use your result from part (b) for the x-locations and let the y locations be uniformly distributed on U[0,1]. Observe how the interference pattern builds up as more phonts are added. Does it evolve like you'd expect? "
     ]
    },
    {
     "cell_type": "code",
     "collapsed": false,
     "input": [],
     "language": "python",
     "metadata": {},
     "outputs": []
    }
   ],
   "metadata": {}
  }
 ]
}