{
 "metadata": {
  "name": "ProjectEuler31"
 },
 "nbformat": 3,
 "nbformat_minor": 0,
 "worksheets": [
  {
   "cells": [
    {
     "cell_type": "heading",
     "level": 1,
     "metadata": {},
     "source": [
      "Project Euler Problem 31"
     ]
    },
    {
     "cell_type": "markdown",
     "metadata": {},
     "source": [
      "### Coin Sums"
     ]
    },
    {
     "cell_type": "markdown",
     "metadata": {},
     "source": [
      "In England the currency is made up of pound, \u00a3, and pence, p, and there are eight coins in general circulation:\n",
      "\n",
      "1p, 2p, 5p, 10p, 20p, 50p, \u00a31 (100p) and \u00a32 (200p).\n",
      "It is possible to make \u00a32 in the following way:\n",
      "\n",
      "1 x \u00a31 + 1 x 50p + 2 x 20p + 1 x 5p + 1 x 2p + 3 x 1p\n",
      "How many different ways can \u00a32 be made using any number of coins?"
     ]
    },
    {
     "cell_type": "code",
     "collapsed": false,
     "input": [
      "p = [1,2,5,10,20,50,100,200] #pence\n",
      "pound_2 = 200 # 200 pence = 2 pounds\n",
      "ways = [1] + [0]*2\n",
      "\n",
      "for pence in p:\n",
      "    for i in range(pence,3):\n",
      "        ways[i] = ways[i] + ways[i-pence]\n",
      " \n",
      "print \"There are \",ways[2] ,\"different ways.\""
     ],
     "language": "python",
     "metadata": {},
     "outputs": [
      {
       "output_type": "stream",
       "stream": "stdout",
       "text": [
        "There are  2 different ways to make two pounds.\n"
       ]
      }
     ],
     "prompt_number": 8
    },
    {
     "cell_type": "code",
     "collapsed": false,
     "input": [
      "p = [1,2,5,10,20,50,100,200] #pence\n",
      "pound_2 = 200 # 200 pence = 2 pounds\n",
      "ways = [1] + [0]*20\n",
      "\n",
      "for pence in p:\n",
      "    for i in range(pence,21):\n",
      "        ways[i] = ways[i] + ways[i-pence]\n",
      " \n",
      "print \"There are \",ways[20],\"different ways to make twenty pence.\""
     ],
     "language": "python",
     "metadata": {},
     "outputs": [
      {
       "output_type": "stream",
       "stream": "stdout",
       "text": [
        "There are  41 different ways to make twenty pence.\n"
       ]
      }
     ],
     "prompt_number": 10
    },
    {
     "cell_type": "code",
     "collapsed": false,
     "input": [
      "p = [1,2,5,10,20,50,100,200] #pence\n",
      "pound_2 = 200 # 200 pence = 2 pounds\n",
      "ways = [1] + [0]*pound_2\n",
      "\n",
      "for pence in p:\n",
      "    for i in range(pence,201):\n",
      "        ways[i] = ways[i] + ways[i-pence]\n",
      "         \n",
      "print \"There are \",ways[200],\"different ways to make two pounds.\""
     ],
     "language": "python",
     "metadata": {},
     "outputs": [
      {
       "output_type": "stream",
       "stream": "stdout",
       "text": [
        "There are  73682 different ways to make two pounds.\n"
       ]
      }
     ],
     "prompt_number": 4
    },
    {
     "cell_type": "code",
     "collapsed": false,
     "input": [],
     "language": "python",
     "metadata": {},
     "outputs": []
    }
   ],
   "metadata": {}
  }
 ]
}