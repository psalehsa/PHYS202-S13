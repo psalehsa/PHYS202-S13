{
 "metadata": {
  "name": "ProjectEuler19"
 },
 "nbformat": 3,
 "nbformat_minor": 0,
 "worksheets": [
  {
   "cells": [
    {
     "cell_type": "heading",
     "level": 1,
     "metadata": {},
     "source": [
      "Counting Sundays - Project Euler # 19"
     ]
    },
    {
     "cell_type": "markdown",
     "metadata": {},
     "source": [
      "You are given the following information, but you may prefer to do some research for yourself.\n",
      "\n",
      "1 Jan 1900 was a Monday.\n",
      "Thirty days has September,\n",
      "April, June and November.\n",
      "All the rest have thirty-one,\n",
      "Saving February alone,\n",
      "Which has twenty-eight, rain or shine.\n",
      "And on leap years, twenty-nine.\n",
      "A leap year occurs on any year evenly divisible by 4, but not on a century unless it is divisible by 400.\n",
      "How many Sundays fell on the first of the month during the twentieth century (1 Jan 1901 to 31 Dec 2000)?"
     ]
    },
    {
     "cell_type": "code",
     "collapsed": false,
     "input": [
      "#how many days are in each month - depending on year\n",
      "def days(month, year):\n",
      "    if month == 4 or month == 6 or month == 9 or month == 11:\n",
      "        days = 30\n",
      "        return days\n",
      "    elif month == 1 or month == 3 or month == 5 or month == 7 or month == 8 or month == 10 or month == 12:\n",
      "        days = 31\n",
      "        return days  \n",
      "    elif (month == 2):\n",
      "        if year % 4 == 0:\n",
      "            if year % 100 == 0: #i googled a century which is 100 years\n",
      "                if year % 400 == 0:\n",
      "                    days = 29\n",
      "                    return days\n",
      "                else:\n",
      "                    days = 28\n",
      "                    return days\n",
      "            days = 29\n",
      "            return days #this was a problem!\n",
      "        else:\n",
      "            days = 28\n",
      "            return days\n",
      "    #else:\n",
      "       #print \":( Problemo!\" #Checking to see where function is failing\n",
      "   \n",
      "# print days(2,1904) - checking to see if it worked. this date was the problem. see above.\n",
      "def sunday():\n",
      "    sundaycount=0 #keeps track of the number of 1st Sundays\n",
      "    daycount=0  #keeps track of the days of the week accourding to below\n",
      "#monday - 1 tuesday - 2 wednesday - 3 thursday - 4 friday - 5 saturday - 6 sunday -7\n",
      "    for year in range(1900,2001):\n",
      "        for month in range(1,13):\n",
      "            a=days(month,year)\n",
      "            for days_in_month in range(1,(a + 1)): \n",
      "                daycount=daycount+1\n",
      "                if days_in_month==1 and daycount== 7:\n",
      "                    sundaycount = sundaycount + 1\n",
      "                if daycount >=7:\n",
      "                    daycount=0 #starts count over\n",
      "#but we want from jan 1st 1901 not 1900 - so i looked at how many sundays fell on the first\n",
      "# in 1900 on http://www.timeanddate.com/calendar/?year=1900- which is 2!\n",
      "    sundaycount = sundaycount - 2\n",
      "    print \"There are \", sundaycount, \" first of the month Sundays from 1901 to 2000!\"\n",
      "                \n",
      "sunday()    #runs function! :D    \n",
      "        "
     ],
     "language": "python",
     "metadata": {},
     "outputs": [
      {
       "output_type": "stream",
       "stream": "stdout",
       "text": [
        "There are  171  first of the month Sundays from 1901 to 2000!\n"
       ]
      }
     ],
     "prompt_number": 16
    },
    {
     "cell_type": "code",
     "collapsed": false,
     "input": [],
     "language": "python",
     "metadata": {},
     "outputs": []
    }
   ],
   "metadata": {}
  }
 ]
}