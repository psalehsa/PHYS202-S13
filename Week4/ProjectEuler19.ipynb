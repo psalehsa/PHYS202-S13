{
 "metadata": {
  "name": "ProjectEuler19"
 },
 "nbformat": 3,
 "nbformat_minor": 0,
 "worksheets": [
  {
   "cells": [
    {
     "cell_type": "heading",
     "level": 1,
     "metadata": {},
     "source": [
      "Counting Sundays - Project Euler # 19"
     ]
    },
    {
     "cell_type": "markdown",
     "metadata": {},
     "source": [
      "You are given the following information, but you may prefer to do some research for yourself.\n",
      "\n",
      "1 Jan 1900 was a Monday.\n",
      "Thirty days has September,\n",
      "April, June and November.\n",
      "All the rest have thirty-one,\n",
      "Saving February alone,\n",
      "Which has twenty-eight, rain or shine.\n",
      "And on leap years, twenty-nine.\n",
      "A leap year occurs on any year evenly divisible by 4, but not on a century unless it is divisible by 400.\n",
      "How many Sundays fell on the first of the month during the twentieth century (1 Jan 1901 to 31 Dec 2000)?"
     ]
    },
    {
     "cell_type": "code",
     "collapsed": false,
     "input": [
      "#how many days are in each month - depending on year\n",
      "def days(month,year):\n",
      "    if month==10 or month==4 or month==6 or month==11:\n",
      "        day=30\n",
      "        return 30\n",
      "    elif month==1 or month==3 or month==5 or month==7 or month==8 or month==9:\n",
      "        day=31\n",
      "        return 31\n",
      "    elif month==2\n",
      "        if year %4==0:\n",
      "            #i googled century and it is 100 years\n",
      "            if year%100==0:\n",
      "                if year %400==0:\n",
      "                    days=29 #leap years have one extra day\n",
      "                    return days\n",
      "                else:\n",
      "                    days=28\n",
      "                    return days\n",
      "        else:\n",
      "            days=29\n",
      "            return days\n",
      "    else:\n",
      "        print\"That isn't a month! :( Please try again.\"\n",
      "            "
     ],
     "language": "python",
     "metadata": {},
     "outputs": []
    }
   ],
   "metadata": {}
  }
 ]
}