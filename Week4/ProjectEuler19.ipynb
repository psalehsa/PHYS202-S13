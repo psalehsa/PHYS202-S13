{
 "metadata": {
  "name": "ProjectEuler19"
 },
 "nbformat": 3,
 "nbformat_minor": 0,
 "worksheets": [
  {
   "cells": [
    {
     "cell_type": "heading",
     "level": 1,
     "metadata": {},
     "source": [
      "Counting Sundays - Project Euler # 19"
     ]
    },
    {
     "cell_type": "markdown",
     "metadata": {},
     "source": [
      "You are given the following information, but you may prefer to do some research for yourself.\n",
      "\n",
      "1 Jan 1900 was a Monday.\n",
      "Thirty days has September,\n",
      "April, June and November.\n",
      "All the rest have thirty-one,\n",
      "Saving February alone,\n",
      "Which has twenty-eight, rain or shine.\n",
      "And on leap years, twenty-nine.\n",
      "A leap year occurs on any year evenly divisible by 4, but not on a century unless it is divisible by 400.\n",
      "How many Sundays fell on the first of the month during the twentieth century (1 Jan 1901 to 31 Dec 2000)?"
     ]
    },
    {
     "cell_type": "code",
     "collapsed": false,
     "input": [
      "#how many days are in each month - depending on year\n",
      "def days(month,year):\n",
      "    if month==9 or month==4 or month==6 or month==11:\n",
      "        days = 30\n",
      "        return days\n",
      "    elif month==1 or month==3 or month==5 or month==7 or month==8 or month==10:\n",
      "        days = 31\n",
      "        return days\n",
      "    elif month==2:\n",
      "        if year%4==0: #i googled century and it is 100 years\n",
      "            if year%100==0:\n",
      "                if year%400==0:\n",
      "                    days=29 #leap years have one extra day\n",
      "                    return days\n",
      "                else:\n",
      "                    days=28\n",
      "                    return days\n",
      "            days=29\n",
      "            return days\n",
      "        else:\n",
      "            days=28\n",
      "            return days\n",
      "\n",
      "    else:\n",
      "        print \":( Probelm!\"\n",
      "# print days(2,1904) - checking to see if it worked. this date was the problem\n",
      "def sunday():\n",
      "    sundaycount=0 #keeps track of the number of 1st Sundays\n",
      "    daycount=0  #keeps track of the days of the week accourding to below\n",
      "#monday - 1 tuesday - 2 wednesday - 3 thursday - 4 friday - 5 saturday - 6 sunday -7\n",
      "    for year in range(1900,2001):\n",
      "        for month in range(1,13):\n",
      "            a=days(month,year)\n",
      "            for days_in_month in range(1,(a + 1)): \n",
      "                daycount=daycount+1\n",
      "                if days_in_month==1 and daycount == 7:\n",
      "                    sundaycount = sundaycount + 1\n",
      "                if daycount >=7:\n",
      "                    daycount=0 #starts count over\n",
      "#but we want from jan 1st 1901 not 1900 - so i looked at how many sundays fell on the first\n",
      "# in 1900 on http://www.timeanddate.com/calendar/?year=1900- which is 2!\n",
      "    sundaycount = sundaycount - 2\n",
      "    print sundaycount\n",
      "                \n",
      "sunday()       \n",
      "        "
     ],
     "language": "python",
     "metadata": {},
     "outputs": [
      {
       "ename": "TypeError",
       "evalue": "unsupported operand type(s) for +: 'NoneType' and 'int'",
       "output_type": "pyerr",
       "traceback": [
        "\u001b[1;31m---------------------------------------------------------------------------\u001b[0m\n\u001b[1;31mTypeError\u001b[0m                                 Traceback (most recent call last)",
        "\u001b[1;32m<ipython-input-20-dff7f90f5428>\u001b[0m in \u001b[0;36m<module>\u001b[1;34m()\u001b[0m\n\u001b[0;32m     43\u001b[0m     \u001b[1;32mprint\u001b[0m \u001b[0msundaycount\u001b[0m\u001b[1;33m\u001b[0m\u001b[0m\n\u001b[0;32m     44\u001b[0m \u001b[1;33m\u001b[0m\u001b[0m\n\u001b[1;32m---> 45\u001b[1;33m \u001b[0msunday\u001b[0m\u001b[1;33m(\u001b[0m\u001b[1;33m)\u001b[0m\u001b[1;33m\u001b[0m\u001b[0m\n\u001b[0m\u001b[0;32m     46\u001b[0m \u001b[1;33m\u001b[0m\u001b[0m\n",
        "\u001b[1;32m<ipython-input-20-dff7f90f5428>\u001b[0m in \u001b[0;36msunday\u001b[1;34m()\u001b[0m\n\u001b[0;32m     32\u001b[0m         \u001b[1;32mfor\u001b[0m \u001b[0mmonth\u001b[0m \u001b[1;32min\u001b[0m \u001b[0mrange\u001b[0m\u001b[1;33m(\u001b[0m\u001b[1;36m1\u001b[0m\u001b[1;33m,\u001b[0m\u001b[1;36m13\u001b[0m\u001b[1;33m)\u001b[0m\u001b[1;33m:\u001b[0m\u001b[1;33m\u001b[0m\u001b[0m\n\u001b[0;32m     33\u001b[0m             \u001b[0ma\u001b[0m\u001b[1;33m=\u001b[0m\u001b[0mdays\u001b[0m\u001b[1;33m(\u001b[0m\u001b[0mmonth\u001b[0m\u001b[1;33m,\u001b[0m\u001b[0myear\u001b[0m\u001b[1;33m)\u001b[0m\u001b[1;33m\u001b[0m\u001b[0m\n\u001b[1;32m---> 34\u001b[1;33m             \u001b[1;32mfor\u001b[0m \u001b[0mdays_in_month\u001b[0m \u001b[1;32min\u001b[0m \u001b[0mrange\u001b[0m\u001b[1;33m(\u001b[0m\u001b[1;36m1\u001b[0m\u001b[1;33m,\u001b[0m\u001b[1;33m(\u001b[0m\u001b[0ma\u001b[0m \u001b[1;33m+\u001b[0m \u001b[1;36m1\u001b[0m\u001b[1;33m)\u001b[0m\u001b[1;33m)\u001b[0m\u001b[1;33m:\u001b[0m\u001b[1;33m\u001b[0m\u001b[0m\n\u001b[0m\u001b[0;32m     35\u001b[0m                 \u001b[0mdaycount\u001b[0m\u001b[1;33m=\u001b[0m\u001b[0mdaycount\u001b[0m\u001b[1;33m+\u001b[0m\u001b[1;36m1\u001b[0m\u001b[1;33m\u001b[0m\u001b[0m\n\u001b[0;32m     36\u001b[0m                 \u001b[1;32mif\u001b[0m \u001b[0mdays_in_month\u001b[0m\u001b[1;33m==\u001b[0m\u001b[1;36m1\u001b[0m \u001b[1;32mand\u001b[0m \u001b[0mdaycount\u001b[0m \u001b[1;33m==\u001b[0m \u001b[1;36m7\u001b[0m\u001b[1;33m:\u001b[0m\u001b[1;33m\u001b[0m\u001b[0m\n",
        "\u001b[1;31mTypeError\u001b[0m: unsupported operand type(s) for +: 'NoneType' and 'int'"
       ]
      },
      {
       "output_type": "stream",
       "stream": "stdout",
       "text": [
        ":( Probelm!\n"
       ]
      }
     ],
     "prompt_number": 20
    },
    {
     "cell_type": "code",
     "collapsed": false,
     "input": [],
     "language": "python",
     "metadata": {},
     "outputs": []
    }
   ],
   "metadata": {}
  }
 ]
}