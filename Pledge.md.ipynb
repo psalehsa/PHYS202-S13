{
 "metadata": {
  "name": "Pledge.md"
 },
 "nbformat": 3,
 "nbformat_minor": 0,
 "worksheets": [
  {
   "cells": [
    {
     "cell_type": "heading",
     "level": 1,
     "metadata": {},
     "source": [
      "Academic Honesty Pledge"
     ]
    },
    {
     "cell_type": "markdown",
     "metadata": {},
     "source": [
      "#### Cal Poly PHYS 202 - Spring 2013\n"
     ]
    },
    {
     "cell_type": "markdown",
     "metadata": {},
     "source": [
      "I have read and understand the rules regarding academic honesty and I agree to abide by them. I pledge on my honor that I have not given or received any unauthorized assistance on assignments or ex- aminations in this course."
     ]
    },
    {
     "cell_type": "markdown",
     "metadata": {},
     "source": [
      "Signed: Parisa Salehsari\n",
      "\n",
      "\n",
      "Date: 5/7/2013"
     ]
    },
    {
     "cell_type": "code",
     "collapsed": false,
     "input": [],
     "language": "python",
     "metadata": {},
     "outputs": []
    }
   ],
   "metadata": {}
  }
 ]
}