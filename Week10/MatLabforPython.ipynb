{
 "metadata": {
  "name": "MatLabforPython"
 },
 "nbformat": 3,
 "nbformat_minor": 0,
 "worksheets": [
  {
   "cells": [
    {
     "cell_type": "heading",
     "level": 1,
     "metadata": {},
     "source": [
      "Matlab for Python Programmers"
     ]
    },
    {
     "cell_type": "heading",
     "level": 3,
     "metadata": {},
     "source": [
      "Why Matlab?"
     ]
    },
    {
     "cell_type": "markdown",
     "metadata": {},
     "source": [
      "Matlab is a widely used tool in engineering and scientific computing. You are likely to come across it in courses, in research settings, in industry. It is a good idea to be a little familiar with it. It is an expensive package (even for a student license), especially when you add on the toolboxes (and to be useful for basic physics, you need at least 3: Statistics, Curve Fitting and Optimization). In a job or course setting you would likely have it provided for you on your work computer, but if you wanted your own copy to play with at home, you're out of luck (or lots of money).\n",
      "\n",
      "You might be wondering how difficult it will be to adapt to it given the training you have had so far in Python. As a starting point, think of Matlab/Python this way:\n",
      "\n",
      "NumPy is like the Matlab core, SciPy is like the Matlab toolboxes, Matplotlib lets you plot like Matlab, and iPython is the Matlab workspace.\n",
      "\n",
      "We've used all of those components of Python heavily this quarter, but we haven't really scratched the surface of what Python can do. It's power is in the fact that it is a general computer language, where Matlab is a package designed for fast scientific problem-solving.\n",
      "\n",
      "Here are some important points about Matlab:\n",
      "\n",
      "1) Matlab has superb documentation. In a world where everyone complains about how bad documentation X is, Matlab's documentation contributes significantly to its popularity. Python's is good, too, but Matlab's just feels a bit more immediately accessible. You can tell that Mathworks put some care into it. Have a look:\n",
      "http://www.mathworks.com/matlabcentral/\n",
      "\n",
      "2) In Matlab, the matrix is fundamental. If you do x = 3 in the workspace, you can then do matrix operations to x (as\n",
      "meaningless as that might be) such as transposition, inverse, eigendecomposition, etc. No casting is necessary. In Python/NumPy, you still need to convert arrays to matrices using scipy.matrix before doing matrix operations.\n",
      "\n",
      "3) On starting the application, Matlab imports all the tools and toolboxes you might want to use (and have installed) for you behind the scenes. It does not have an explicit philosophy analogous to Python's zen (i.e.,import this), but many characteristics are similar: easy experimentation, fast development time, easy to debug and profile, high level, extensible.\n",
      "\n",
      "4) Matlab does not emphasize object orientation like Python. OO is still possible in Matlab (e.g., classes are supported), but it was not built to work like that so its OO capabilities are more limited.\n",
      "\n",
      "5) Oh yeah...THIS ONE IS VERY IMPORTANT. Matlab starts indexing with 1, not zero! This is a logical consequence of Matlab's fundamental idea that every numeric \"thing\" is a matrix, and in linear algebra, matrices are often indexed starting with 1.\n",
      "There are lots of pages on the web about going to Python from Matlab but very few (or none, I couldn't find any) helping you go the other way. That's okay. Most of the Matlab \u2192 Python translations can be read in reverse. Here are a few external pages that offer some comparison details:\n",
      "\n",
      "http://wiki.scipy.org/NumPy_for_Matlab_Users\n",
      "\n",
      "https://sites.google.com/site/pythonforscientists/python-vs-matlab\n",
      "\n",
      "http://www.stat.washington.edu/~hoytak/blog/whypython.html http://stackoverflow.com/questions/5214369/python-vs-matlab\n",
      "\n",
      "And here is a nicely summarized CheatSheet for translating syntax between Python and Matlab:\n",
      "\n",
      "http://mathesaurus.sourceforge.net/matlab-python-xref.pdf\n",
      "\n"
     ]
    },
    {
     "cell_type": "code",
     "collapsed": false,
     "input": [],
     "language": "python",
     "metadata": {},
     "outputs": []
    }
   ],
   "metadata": {}
  }
 ]
}