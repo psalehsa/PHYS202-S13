{
 "metadata": {
  "name": "ProjectEuler17"
 },
 "nbformat": 3,
 "nbformat_minor": 0,
 "worksheets": [
  {
   "cells": [
    {
     "cell_type": "heading",
     "level": 1,
     "metadata": {},
     "source": [
      "Number letter Counts - Problem 17"
     ]
    },
    {
     "cell_type": "markdown",
     "metadata": {},
     "source": [
      "### If the numbers 1 to 5 are written out in words: one, two, three, four, five, then there are 3 + 3 + 5 + 4 + 4 = 19 letters used in total.\n",
      "\n",
      "###If all the numbers from 1 to 1000 (one thousand) inclusive were written out in words, how many letters would be used?\n",
      "\n",
      "\n",
      "###NOTE: Do not count spaces or hyphens. For example, 342 (three hundred and forty-two) contains 23 letters and 115 (one hundred and fifteen) contains 20 letters. The use of \"and\" when writing out numbers is in compliance with British usage."
     ]
    },
    {
     "cell_type": "markdown",
     "metadata": {},
     "source": [
      "To check if Code is working for test cases:\n",
      "    "
     ]
    },
    {
     "cell_type": "code",
     "collapsed": false,
     "input": [
      "def numberofletters(n):\n",
      "    number = {\n",
      "    1:'one',2:'two',3:'three',4:'four',5:'five',6:'six',7:'seven',\n",
      "    8:'eight',9:'nine',10:'ten',11:'eleven',12:'twelve',13:'thirteen',\n",
      "    14:'fourteen',15:'fifteen',16:'sixteen',17:'seventeen',\n",
      "    18:'eighteen',19:'nineteen',20:'twenty',30:'thirty',40:'forty',\n",
      "    50:'fifty',60:'sixty',70:'seventy',80:'eighty',90:'ninety'} #dictionary of specific numbers \n",
      "    count = 0 #to keep track of sum\n",
      "    \n",
      "    d = str(n) # have to first convert to string in order to seperate digits! this was a problem. woops\n",
      "        #first consider one digit numbers\n",
      "    if len(str(n)) == 1:\n",
      "        a = len(number[n])\n",
      "        # two digit numbers\n",
      "    elif len(str(n)) == 2 and i <= 20:\n",
      "        a = len(number[n])\n",
      "    elif len(str(n)) == 2 and i > 20:\n",
      "        # seperating the digits\n",
      "        d1 = d[0:1]\n",
      "        d2 = d[1:2]\n",
      "            # if 30, 40, 50 ,60,70,80,90\n",
      "        if d2 == '0':\n",
      "            a = len(number[n])\n",
      "        else:\n",
      "            d1_add = str(d1 + '0') #makes 2 twenty\n",
      "            a = len(number[int(d1_add)]) + len(number[int(d2)])\n",
      "        # three digit numbers\n",
      "    elif len(str(n)) == 3:\n",
      "            #seperating digits\n",
      "        d1 = d[0:1]\n",
      "        d2 = d[1:2]\n",
      "        d3 = d[2:3]\n",
      "            # if 100, 200 , 300 , 400 , 500, 600, ... 900\n",
      "        if d2 == '0' and d3 =='0':\n",
      "            a = len(number[int(d1)])+ len('hundred')\n",
      "            # for numbers like 101, 203, 304..\n",
      "        elif d2 == '0' and d3 != '0':\n",
      "            a = len(number[int(d1)]) + len('hundred') + len('and') + len(number[int(d3)])\n",
      "            #for numbers like 110, 220, 330..\n",
      "        elif d2 !='0' and d3 == '0':\n",
      "            d2_add = str(d2 + '0')\n",
      "            a = len(number[int(d1)]) + len('hundred') + len('and') + len(number[int(d2_add)])\n",
      "            #for numbers like 111, 112, 113...\n",
      "        elif d2 == '1' and d3 != '0':\n",
      "            d2d3 = str(d2 + d3)\n",
      "            a = len(number[int(d1)]) + len('hundred') + len('and') + len(number[int(d2d3)])\n",
      "            # for numbers like 123, 234, 456...\n",
      "        else:\n",
      "            d2_add = str(d2 + '0')\n",
      "            a = len(number[int(d1)]) + len('hundred') + len('and') + len(number[int(d2_add)]) + len(number[int(d3)])\n",
      "    elif len(str(n)) == 4:\n",
      "        d1 = d[0:1]\n",
      "        d2 = d[1:2]\n",
      "        d3 = d[2:3]\n",
      "        d4 = d[3:4]\n",
      "            #since only need 1000 for euler, i'll only consider that case\n",
      "        a = len(number[int(d1)]) + len('thousand')\n",
      "    count = count + a #keeps sum count\n",
      "    return count"
     ],
     "language": "python",
     "metadata": {},
     "outputs": [],
     "prompt_number": 20
    },
    {
     "cell_type": "code",
     "collapsed": false,
     "input": [
      "print numberofletters(342)"
     ],
     "language": "python",
     "metadata": {},
     "outputs": [
      {
       "output_type": "stream",
       "stream": "stdout",
       "text": [
        "23\n"
       ]
      }
     ],
     "prompt_number": 21
    },
    {
     "cell_type": "code",
     "collapsed": false,
     "input": [
      "print numberofletters(115)"
     ],
     "language": "python",
     "metadata": {},
     "outputs": [
      {
       "output_type": "stream",
       "stream": "stdout",
       "text": [
        "20\n"
       ]
      }
     ],
     "prompt_number": 22
    },
    {
     "cell_type": "code",
     "collapsed": false,
     "input": [
      "def writtennumbers(n):\n",
      "    number = {\n",
      "    1:'one',2:'two',3:'three',4:'four',5:'five',6:'six',7:'seven',\n",
      "    8:'eight',9:'nine',10:'ten',11:'eleven',12:'twelve',13:'thirteen',\n",
      "    14:'fourteen',15:'fifteen',16:'sixteen',17:'seventeen',\n",
      "    18:'eighteen',19:'nineteen',20:'twenty',30:'thirty',40:'forty',\n",
      "    50:'fifty',60:'sixty',70:'seventy',80:'eighty',90:'ninety'} #dictionary of specific numbers \n",
      "    count = 0 #to keep track of sum\n",
      "    for i in range(1,n+1):\n",
      "        d = str(i) # have to first convert to string in order to seperate digits! this was a problem. woops\n",
      "        #first consider one digit numbers\n",
      "        if len(str(i)) == 1:\n",
      "            a = len(number[i])\n",
      "        # two digit numbers\n",
      "        elif len(str(i)) == 2 and i <= 20:\n",
      "            a = len(number[i])\n",
      "        elif len(str(i)) == 2 and i > 20:\n",
      "        # seperating the digits\n",
      "            d1 = d[0:1]\n",
      "            d2 = d[1:2]\n",
      "            # if 30, 40, 50 ,60,70,80,90\n",
      "            if d2 == '0':\n",
      "                a = len(number[i])\n",
      "            else:\n",
      "                d1_add = str(d1 + '0') #makes 2 twenty\n",
      "                a = len(number[int(d1_add)]) + len(number[int(d2)])\n",
      "        # three digit numbers\n",
      "        elif len(str(i)) == 3:\n",
      "            #seperating digits\n",
      "            d1 = d[0:1]\n",
      "            d2 = d[1:2]\n",
      "            d3 = d[2:3]\n",
      "            # if 100, 200 , 300 , 400 , 500, 600, ... 900\n",
      "            if d2 == '0' and d3 =='0':\n",
      "                a = len(number[int(d1)])+ len('hundred')\n",
      "            # for numbers like 101, 203, 304..\n",
      "            elif d2 == '0' and d3 != '0':\n",
      "                a = len(number[int(d1)]) + len('hundred') + len('and') + len(number[int(d3)])\n",
      "            #for numbers like 110, 220, 330..\n",
      "            elif d2 !='0' and d3 == '0':\n",
      "                d2_add = str(d2 + '0')\n",
      "                a = len(number[int(d1)]) + len('hundred') + len('and') + len(number[int(d2_add)])\n",
      "            #for numbers like 111, 112, 113...\n",
      "            elif d2 == '1' and d3 != '0':\n",
      "                d2d3 = str(d2 + d3)\n",
      "                a = len(number[int(d1)]) + len('hundred') + len('and') + len(number[int(d2d3)])\n",
      "            # for numbers like 123, 234, 456...\n",
      "            else:\n",
      "                d2_add = str(d2 + '0')\n",
      "                a = len(number[int(d1)]) + len('hundred') + len('and') + len(number[int(d2_add)]) + len(number[int(d3)])\n",
      "        elif len(str(i)) == 4:\n",
      "            d1 = d[0:1]\n",
      "            d2 = d[1:2]\n",
      "            d3 = d[2:3]\n",
      "            d4 = d[3:4]\n",
      "            #since only need 1000 for euler, i'll only consider that case\n",
      "            a = len(number[int(d1)]) + len('thousand')\n",
      "        count = count + a #keeps sum count\n",
      "    return count"
     ],
     "language": "python",
     "metadata": {},
     "outputs": [],
     "prompt_number": 23
    },
    {
     "cell_type": "code",
     "collapsed": false,
     "input": [
      "print writtennumbers(1000)"
     ],
     "language": "python",
     "metadata": {},
     "outputs": [
      {
       "output_type": "stream",
       "stream": "stdout",
       "text": [
        "21124\n"
       ]
      }
     ],
     "prompt_number": 24
    },
    {
     "cell_type": "code",
     "collapsed": false,
     "input": [],
     "language": "python",
     "metadata": {},
     "outputs": []
    }
   ],
   "metadata": {}
  }
 ]
}